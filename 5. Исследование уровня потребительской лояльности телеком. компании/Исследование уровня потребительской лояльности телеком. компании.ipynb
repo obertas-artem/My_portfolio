{
 "cells": [
  {
   "cell_type": "markdown",
   "metadata": {},
   "source": [
    "<div class=\"alert alert-success\">\n",
    "<font size=\"5\"><b>Комментарий ревьюера 2</b></font>\n",
    "\n",
    "Привет. В таком случае приниимаю проект. Тебя также с наступающими праздниками. Поздравляю со сданным проектом. Надеюсь, он был интересен и познавателен. Успехов в дальнейшем пути :)\n",
    "\n",
    "</div>"
   ]
  },
  {
   "cell_type": "markdown",
   "metadata": {},
   "source": [
    "<div class=\"alert alert-info\">\n",
    "<font size=\"5\"><b>Комментарий ревьюера</b></font>\n",
    "\n",
    "Привет, Артем! Спасибо, что прислал задание:) Меня зовут Слепцов Артем и я буду проверять твой проект) Ты проделал большую работу над проектом. Он выполнен уже на достойном уровне. Однако есть моменты, которые еще можно улучшить. Будет здорово, если ты, надеюсь, не против, если я буду на ты, будешь отвечать на комментарии и участвовать в диалоге. Если обращение на ты неприемлемо, то прошу сообщить. \n",
    "\n",
    "Мои комментарии обозначены пометкой **Комментарий ревьюера**. Далее в файле ты сможешь найти их в похожих ячейках:\n",
    "    \n",
    "<div class=\"alert alert-success\">Успех: Если фон комментария зелёный - всё сделано правильно. Рекомендации укажу таким же цветом;</div>\n",
    "        \n",
    "<div class=\"alert alert-warning\">Совет: Оранжевый - некритичные замечания;</div>\n",
    "        \n",
    "<div class=\"alert alert-danger\">Ошибка: Красный - нужно переделать. </div>\n",
    "        \n",
    "Не удаляй эти комментарии и постарайся учесть их в ходе выполнения данного проекта. Свои же комментарии ты можешь обозначать любым заметным способом. \n",
    "\n",
    "</div>"
   ]
  },
  {
   "cell_type": "code",
   "execution_count": 1,
   "metadata": {},
   "outputs": [],
   "source": [
    "import pandas as pd\n",
    "import numpy as np\n",
    "import os\n",
    "from sqlalchemy import create_engine"
   ]
  },
  {
   "cell_type": "code",
   "execution_count": 6,
   "metadata": {},
   "outputs": [],
   "source": [
    "try:\n",
    "    os.path.exists('datasets/telecomm_csi.db')\n",
    "    path_to_db = 'datasets/telecomm_csi.db'\n",
    "    engine = create_engine(f'sqlite:///{path_to_db}', echo = False)\n",
    "except:\n",
    "    path_to_db = '/datasets/telecomm_csi.db'\n",
    "    engine = create_engine(f'sqlite:///{path_to_db}', echo = False)"
   ]
  },
  {
   "cell_type": "code",
   "execution_count": 7,
   "metadata": {},
   "outputs": [],
   "source": [
    "query = \"\"\"\n",
    "WITH\n",
    "    u AS (\n",
    "        SELECT *,\n",
    "            CASE\n",
    "                WHEN lt_day >= 365 THEN 'Нет'\n",
    "                WHEN lt_day < 365 THEN 'Да'\n",
    "            END AS is_new,\n",
    "            CASE\n",
    "                WHEN nps_score <= 6 THEN 'Критик'\n",
    "                WHEN nps_score >= 9 THEN 'Сторонник'\n",
    "                WHEN nps_score > 6 AND nps_score < 9 THEN 'Нейтрал'\n",
    "            END AS nps_group,\n",
    "            CASE\n",
    "                WHEN gender_segment = 1 THEN 'Ж'\n",
    "                WHEN gender_segment = 0 THEN 'М'\n",
    "            END AS gender_seg\n",
    "        FROM user),\n",
    "    l AS (SELECT * FROM location),\n",
    "    a AS (SELECT * FROM age_segment),\n",
    "    ts AS (SELECT * FROM traffic_segment),\n",
    "    ls AS (SELECT * FROM lifetime_segment)\n",
    "\n",
    "\n",
    "\n",
    "SELECT u.user_id,\n",
    "       u.lt_day,\n",
    "       u.is_new,\n",
    "       u.age,\n",
    "       u.gender_seg AS gender_segment,\n",
    "       u.os_name,\n",
    "       u.cpe_type_name,\n",
    "       l.country,\n",
    "       l.city,\n",
    "       substring(a.title, instr(a.title, ' ')) AS age_segment,\n",
    "       substring(ts.title, instr(ts.title, ' '))  AS traffic_segment,\n",
    "       substring(ls.title, instr(ls.title, ' ')) AS lifetime_segment,\n",
    "       u.nps_score,\n",
    "       u.nps_group\n",
    "\n",
    "FROM u\n",
    "JOIN l ON u.location_id = l.location_id\n",
    "JOIN a ON u.age_gr_id = a.age_gr_id\n",
    "JOIN ts ON u.tr_gr_id = ts.tr_gr_id\n",
    "JOIN ls ON u.lt_gr_id = ls.lt_gr_id\n",
    "\n",
    "\n",
    "\n",
    "\"\"\""
   ]
  },
  {
   "cell_type": "markdown",
   "metadata": {},
   "source": [
    "<div class=\"alert alert-success\">\n",
    "<font size=\"5\"><b>Комментарий ревьюера</b></font>\n",
    "\n",
    "Успех: Запрос классный. Все сделано детально, таблицы соединены корректно. Здорово, что ты знаешь метод substr. Он позволит нам убрать лишние цифры по параметрам age_segment, traffic_segment, lifetime_segment.\n",
    "\n",
    "</div>"
   ]
  },
  {
   "cell_type": "code",
   "execution_count": 8,
   "metadata": {},
   "outputs": [
    {
     "data": {
      "text/html": [
       "<div>\n",
       "<style scoped>\n",
       "    .dataframe tbody tr th:only-of-type {\n",
       "        vertical-align: middle;\n",
       "    }\n",
       "\n",
       "    .dataframe tbody tr th {\n",
       "        vertical-align: top;\n",
       "    }\n",
       "\n",
       "    .dataframe thead th {\n",
       "        text-align: right;\n",
       "    }\n",
       "</style>\n",
       "<table border=\"1\" class=\"dataframe\">\n",
       "  <thead>\n",
       "    <tr style=\"text-align: right;\">\n",
       "      <th></th>\n",
       "      <th>user_id</th>\n",
       "      <th>lt_day</th>\n",
       "      <th>is_new</th>\n",
       "      <th>age</th>\n",
       "      <th>gender_segment</th>\n",
       "      <th>os_name</th>\n",
       "      <th>cpe_type_name</th>\n",
       "      <th>country</th>\n",
       "      <th>city</th>\n",
       "      <th>age_segment</th>\n",
       "      <th>traffic_segment</th>\n",
       "      <th>lifetime_segment</th>\n",
       "      <th>nps_score</th>\n",
       "      <th>nps_group</th>\n",
       "    </tr>\n",
       "  </thead>\n",
       "  <tbody>\n",
       "    <tr>\n",
       "      <th>0</th>\n",
       "      <td>A001A2</td>\n",
       "      <td>2320</td>\n",
       "      <td>Нет</td>\n",
       "      <td>45.0</td>\n",
       "      <td>Ж</td>\n",
       "      <td>ANDROID</td>\n",
       "      <td>SMARTPHONE</td>\n",
       "      <td>Россия</td>\n",
       "      <td>Уфа</td>\n",
       "      <td>45-54</td>\n",
       "      <td>1-5</td>\n",
       "      <td>36+</td>\n",
       "      <td>10</td>\n",
       "      <td>Сторонник</td>\n",
       "    </tr>\n",
       "    <tr>\n",
       "      <th>1</th>\n",
       "      <td>A001WF</td>\n",
       "      <td>2344</td>\n",
       "      <td>Нет</td>\n",
       "      <td>53.0</td>\n",
       "      <td>М</td>\n",
       "      <td>ANDROID</td>\n",
       "      <td>SMARTPHONE</td>\n",
       "      <td>Россия</td>\n",
       "      <td>Киров</td>\n",
       "      <td>45-54</td>\n",
       "      <td>1-5</td>\n",
       "      <td>36+</td>\n",
       "      <td>10</td>\n",
       "      <td>Сторонник</td>\n",
       "    </tr>\n",
       "    <tr>\n",
       "      <th>2</th>\n",
       "      <td>A003Q7</td>\n",
       "      <td>467</td>\n",
       "      <td>Нет</td>\n",
       "      <td>57.0</td>\n",
       "      <td>М</td>\n",
       "      <td>ANDROID</td>\n",
       "      <td>SMARTPHONE</td>\n",
       "      <td>Россия</td>\n",
       "      <td>Москва</td>\n",
       "      <td>55-64</td>\n",
       "      <td>20-25</td>\n",
       "      <td>13-24</td>\n",
       "      <td>10</td>\n",
       "      <td>Сторонник</td>\n",
       "    </tr>\n",
       "    <tr>\n",
       "      <th>3</th>\n",
       "      <td>A004TB</td>\n",
       "      <td>4190</td>\n",
       "      <td>Нет</td>\n",
       "      <td>44.0</td>\n",
       "      <td>Ж</td>\n",
       "      <td>IOS</td>\n",
       "      <td>SMARTPHONE</td>\n",
       "      <td>Россия</td>\n",
       "      <td>РостовнаДону</td>\n",
       "      <td>35-44</td>\n",
       "      <td>0.1-1</td>\n",
       "      <td>36+</td>\n",
       "      <td>10</td>\n",
       "      <td>Сторонник</td>\n",
       "    </tr>\n",
       "    <tr>\n",
       "      <th>4</th>\n",
       "      <td>A004XT</td>\n",
       "      <td>1163</td>\n",
       "      <td>Нет</td>\n",
       "      <td>24.0</td>\n",
       "      <td>М</td>\n",
       "      <td>ANDROID</td>\n",
       "      <td>SMARTPHONE</td>\n",
       "      <td>Россия</td>\n",
       "      <td>Рязань</td>\n",
       "      <td>16-24</td>\n",
       "      <td>5-10</td>\n",
       "      <td>36+</td>\n",
       "      <td>10</td>\n",
       "      <td>Сторонник</td>\n",
       "    </tr>\n",
       "  </tbody>\n",
       "</table>\n",
       "</div>"
      ],
      "text/plain": [
       "  user_id  lt_day is_new   age gender_segment  os_name cpe_type_name country  \\\n",
       "0  A001A2    2320    Нет  45.0              Ж  ANDROID    SMARTPHONE  Россия   \n",
       "1  A001WF    2344    Нет  53.0              М  ANDROID    SMARTPHONE  Россия   \n",
       "2  A003Q7     467    Нет  57.0              М  ANDROID    SMARTPHONE  Россия   \n",
       "3  A004TB    4190    Нет  44.0              Ж      IOS    SMARTPHONE  Россия   \n",
       "4  A004XT    1163    Нет  24.0              М  ANDROID    SMARTPHONE  Россия   \n",
       "\n",
       "           city age_segment traffic_segment lifetime_segment  nps_score  \\\n",
       "0           Уфа       45-54             1-5              36+         10   \n",
       "1         Киров       45-54             1-5              36+         10   \n",
       "2        Москва       55-64           20-25            13-24         10   \n",
       "3  РостовнаДону       35-44           0.1-1              36+         10   \n",
       "4        Рязань       16-24            5-10              36+         10   \n",
       "\n",
       "   nps_group  \n",
       "0  Сторонник  \n",
       "1  Сторонник  \n",
       "2  Сторонник  \n",
       "3  Сторонник  \n",
       "4  Сторонник  "
      ]
     },
     "execution_count": 8,
     "metadata": {},
     "output_type": "execute_result"
    }
   ],
   "source": [
    "df = pd.read_sql(query, engine)\n",
    "df.head(5)"
   ]
  },
  {
   "cell_type": "code",
   "execution_count": 9,
   "metadata": {},
   "outputs": [
    {
     "name": "stdout",
     "output_type": "stream",
     "text": [
      "<class 'pandas.core.frame.DataFrame'>\n",
      "RangeIndex: 502493 entries, 0 to 502492\n",
      "Data columns (total 14 columns):\n",
      " #   Column            Non-Null Count   Dtype  \n",
      "---  ------            --------------   -----  \n",
      " 0   user_id           502493 non-null  object \n",
      " 1   lt_day            502493 non-null  int64  \n",
      " 2   is_new            502493 non-null  object \n",
      " 3   age               501939 non-null  float64\n",
      " 4   gender_segment    501192 non-null  object \n",
      " 5   os_name           502493 non-null  object \n",
      " 6   cpe_type_name     502493 non-null  object \n",
      " 7   country           502493 non-null  object \n",
      " 8   city              502493 non-null  object \n",
      " 9   age_segment       502493 non-null  object \n",
      " 10  traffic_segment   502493 non-null  object \n",
      " 11  lifetime_segment  502493 non-null  object \n",
      " 12  nps_score         502493 non-null  int64  \n",
      " 13  nps_group         502493 non-null  object \n",
      "dtypes: float64(1), int64(2), object(11)\n",
      "memory usage: 53.7+ MB\n"
     ]
    }
   ],
   "source": [
    "df.info()"
   ]
  },
  {
   "cell_type": "code",
   "execution_count": 10,
   "metadata": {},
   "outputs": [
    {
     "data": {
      "text/plain": [
       "user_id                0\n",
       "lt_day                 0\n",
       "is_new                 0\n",
       "age                  554\n",
       "gender_segment      1301\n",
       "os_name                0\n",
       "cpe_type_name          0\n",
       "country                0\n",
       "city                   0\n",
       "age_segment            0\n",
       "traffic_segment        0\n",
       "lifetime_segment       0\n",
       "nps_score              0\n",
       "nps_group              0\n",
       "dtype: int64"
      ]
     },
     "execution_count": 10,
     "metadata": {},
     "output_type": "execute_result"
    }
   ],
   "source": [
    "df.isna().sum()"
   ]
  },
  {
   "cell_type": "code",
   "execution_count": 11,
   "metadata": {},
   "outputs": [],
   "source": [
    "df.to_csv('dash_telecomm.csv', index=False)"
   ]
  },
  {
   "cell_type": "markdown",
   "metadata": {},
   "source": [
    "### Укажите ссылку на дашборд на сайте Tableau Public:"
   ]
  },
  {
   "cell_type": "markdown",
   "metadata": {},
   "source": [
    "https://public.tableau.com/app/profile/artem7301"
   ]
  },
  {
   "cell_type": "markdown",
   "metadata": {},
   "source": [
    "<div class=\"alert alert-success\">\n",
    "<font size=\"5\"><b>Комментарий ревьюера</b></font>\n",
    "\n",
    "Успех: Дашборд сделан круто. Ты детально проанализировал имеющиеся данные, характеристики участников теста. Все фильтры работают корректно. Такой дашборд позволяет проанализировать детально результаты проведенного исследования. \n",
    "    \n",
    "Анализ NPS также сделан. Он дает нам очень много полезной информации. Видна связь NPS с возрастом клиентов и периодом использования. Установить ее без такого анализа было бы невозможно. \n",
    "    \n",
    "Рекомендую лишь сделать 2 страницы дашборда, а также настроить кнопку перехода с одного дашборда на другой. Так будет легче воспринимать всю имеющуюся информацию.\n",
    "\n",
    "</div>"
   ]
  },
  {
   "cell_type": "markdown",
   "metadata": {},
   "source": [
    "### Укажите ссылку на pdf-файл с презентацией:"
   ]
  },
  {
   "cell_type": "markdown",
   "metadata": {},
   "source": [
    "https://disk.yandex.ru/i/4gB1zdTw8RugHQ"
   ]
  },
  {
   "cell_type": "markdown",
   "metadata": {},
   "source": [
    "<div class=\"alert alert-success\">\n",
    "<font size=\"5\"><b>Комментарий ревьюера</b></font>\n",
    "\n",
    "Успех: Теперь по презентации. Всем имеющимся графикам в ней уделено внимание. Это важно. Распределения пользователей по группам описаны, анализ NPS также есть. Здорово, что ты не забыл сделать и портрет лояльного пользователя. Хорошо бы уделить внимание и критикам. Данная категория для нас является не менее информативной. \n",
    "\n",
    "</div>"
   ]
  },
  {
   "cell_type": "markdown",
   "metadata": {},
   "source": [
    "<div class=\"alert alert-info\">\n",
    "<font size=\"5\"><b>Комментарий ревьюера</b></font>\n",
    "    \n",
    "Рекомендую посмотреть возможности Tableau в данной подборке - https://public.tableau.com/app/discover/viz-of-the-day. Также привожу ссылку на некоторые полезные правила [оформления](https://ux.pub/10-pravil-proektirovaniya-paneli-dashbordov/) дашбордов. \n",
    "\n",
    "Ты проделал большую работу, молодец! Критичных ошибок нет. Это здорово. Однако отправляю проект тебе обратно для возможности задать вопросы. Если их нет, то просто верни проект мне обратно. Жду твою работу :)\n",
    "\n",
    "</div>"
   ]
  },
  {
   "cell_type": "markdown",
   "metadata": {},
   "source": [
    "<div class=\"alert alert-info\">\n",
    "<b> Комментарий студента</b>\n",
    "Спасибо большое за подробный ревью, вопросов нет, с наступающим Новым Годом!)\n",
    "        \n",
    "</div>"
   ]
  },
  {
   "cell_type": "code",
   "execution_count": null,
   "metadata": {},
   "outputs": [],
   "source": []
  }
 ],
 "metadata": {
  "ExecuteTimeLog": [
   {
    "duration": 517,
    "start_time": "2022-12-21T16:58:03.542Z"
   },
   {
    "duration": 81,
    "start_time": "2022-12-21T16:58:04.061Z"
   },
   {
    "duration": 4,
    "start_time": "2022-12-21T16:58:04.143Z"
   },
   {
    "duration": 636,
    "start_time": "2022-12-21T16:58:04.149Z"
   },
   {
    "duration": 0,
    "start_time": "2022-12-21T16:58:04.787Z"
   },
   {
    "duration": 0,
    "start_time": "2022-12-21T16:58:04.788Z"
   },
   {
    "duration": 0,
    "start_time": "2022-12-21T16:58:04.789Z"
   },
   {
    "duration": 74,
    "start_time": "2022-12-21T16:58:19.245Z"
   },
   {
    "duration": 3,
    "start_time": "2022-12-21T16:58:22.164Z"
   },
   {
    "duration": 4,
    "start_time": "2022-12-21T16:58:29.117Z"
   },
   {
    "duration": 5663,
    "start_time": "2022-12-21T16:58:30.214Z"
   },
   {
    "duration": 506,
    "start_time": "2022-12-21T16:58:35.878Z"
   },
   {
    "duration": 500,
    "start_time": "2022-12-21T16:58:36.386Z"
   },
   {
    "duration": 3835,
    "start_time": "2022-12-21T16:58:36.888Z"
   }
  ],
  "kernelspec": {
   "display_name": "Python 3 (ipykernel)",
   "language": "python",
   "name": "python3"
  },
  "language_info": {
   "codemirror_mode": {
    "name": "ipython",
    "version": 3
   },
   "file_extension": ".py",
   "mimetype": "text/x-python",
   "name": "python",
   "nbconvert_exporter": "python",
   "pygments_lexer": "ipython3",
   "version": "3.9.5"
  },
  "toc": {
   "base_numbering": 1,
   "nav_menu": {},
   "number_sections": true,
   "sideBar": true,
   "skip_h1_title": true,
   "title_cell": "Table of Contents",
   "title_sidebar": "Contents",
   "toc_cell": false,
   "toc_position": {},
   "toc_section_display": true,
   "toc_window_display": false
  },
  "vscode": {
   "interpreter": {
    "hash": "a69a135b385a4ec1edfec8b814300d758869dbe709ee900f1b720e28d2d5716a"
   }
  }
 },
 "nbformat": 4,
 "nbformat_minor": 2
}
