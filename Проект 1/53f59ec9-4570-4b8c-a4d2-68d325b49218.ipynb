{
 "cells": [
  {
   "cell_type": "markdown",
   "metadata": {},
   "source": [
    "<div style=\"border:solid green 2px; padding: 20px\">\n",
    "<b>Артем, привет!</b>\n",
    "\n",
    "Меня зовут Лена Эльзессер, и я буду проверять твой проект. Предлагаю общаться на «ты» :) Но если это не удобно - дай знать, и мы перейдем на \"вы\". \n",
    "\n",
    "Моя основная цель — не указать на совершенные тобою ошибки, а поделиться своим опытом и помочь тебе стать аналитиком данных. Ты уже проделал большую работу над проектом, но давай сделаем его еще лучше. Ниже ты найдешь мои комментарии - **пожалуйста, не перемещай, не изменяй и не удаляй их**. Увидев у тебя ошибку, в первый раз я лишь укажу на ее наличие и дам тебе возможность самому найти и исправить ее. На реальной работе твой начальник будет поступать так же, а я пытаюсь подготовить тебя именно к работе аналитиком. Но если ты пока не справишься с такой задачей - при следующей проверке я дам более точную подсказку. Я буду использовать цветовую разметку:\n",
    "\n",
    "<div class=\"alert alert-danger\">\n",
    "<b>Комментарий ревьюера :</b> Так выделены самые важные замечания. Без их отработки проект не будет принят. </div>\n",
    "\n",
    "<div class=\"alert alert-warning\">\n",
    "<b>Комментарий ревьюера :</b> Так выделены небольшие замечания. Я надеюсь, что их ты тоже учтешь - твой проект от этого станет только лучше. Но настаивать на их отработке не буду.\n",
    "\n",
    "</div>\n",
    "\n",
    "<div class=\"alert alert-success\">\n",
    "<b>Комментарий ревьюера :</b> Так я выделяю все остальные комментарии.</div>\n",
    "\n",
    "Давай работать над проектом в диалоге: **если ты что-то меняешь в проекте или отвечаешь на мои комменатри — пиши об этом.** Мне будет легче отследить изменения, если ты выделишь свои комментарии:\n",
    "<div class=\"alert alert-info\"> <b>Комментарий студента:</b> Например, вот так.</div>\n",
    "\n",
    "Всё это поможет выполнить повторную проверку твоего проекта оперативнее."
   ]
  },
  {
   "cell_type": "markdown",
   "metadata": {},
   "source": [
    "<div class=\"alert alert-success\">\n",
    "<h2> Комментарий ревьюера V2<a class=\"tocSkip\"> </h2>\n",
    "\n",
    "Проект принят. И еще раз скажу, что у тебя хорошая работа. Так держать! :)"
   ]
  },
  {
   "cell_type": "markdown",
   "metadata": {},
   "source": [
    "<div class=\"alert alert-success\">\n",
    "<h2> Комментарий ревьюера <a class=\"tocSkip\"> </h2>\n",
    "\n",
    "Я представляю твои волнения и ожидания, по этому сразу большими буквами напишу, что проект ОЧЕНЬ ХОРОШИЙ, есть только один красный комментарий, его нужно исправить и отправить проект еще раз. Желтый комментарий - по желанию :)"
   ]
  },
  {
   "cell_type": "markdown",
   "metadata": {
    "id": "E0vqbgi9ay0H"
   },
   "source": [
    "# Яндекс.Музыка"
   ]
  },
  {
   "cell_type": "markdown",
   "metadata": {
    "id": "VUC88oWjTJw2"
   },
   "source": [
    "Сравнение Москвы и Петербурга окружено мифами. Например:\n",
    " * Москва — мегаполис, подчинённый жёсткому ритму рабочей недели;\n",
    " * Петербург — культурная столица, со своими вкусами.\n",
    "\n",
    "На данных Яндекс.Музыки вы сравните поведение пользователей двух столиц.\n",
    "\n",
    "**Цель исследования** — проверьте три гипотезы:\n",
    "1. Активность пользователей зависит от дня недели. Причём в Москве и Петербурге это проявляется по-разному.\n",
    "2. В понедельник утром в Москве преобладают одни жанры, а в Петербурге — другие. Так же и вечером пятницы преобладают разные жанры — в зависимости от города. \n",
    "3. Москва и Петербург предпочитают разные жанры музыки. В Москве чаще слушают поп-музыку, в Петербурге — русский рэп.\n",
    "\n",
    "**Ход исследования**\n",
    "\n",
    "Данные о поведении пользователей вы получите из файла `yandex_music_project.csv`. О качестве данных ничего не известно. Поэтому перед проверкой гипотез понадобится обзор данных. \n",
    "\n",
    "Вы проверите данные на ошибки и оцените их влияние на исследование. Затем, на этапе предобработки вы поищете возможность исправить самые критичные ошибки данных.\n",
    " \n",
    "Таким образом, исследование пройдёт в три этапа:\n",
    " 1. Обзор данных.\n",
    " 2. Предобработка данных.\n",
    " 3. Проверка гипотез.\n",
    "\n"
   ]
  },
  {
   "cell_type": "markdown",
   "metadata": {},
   "source": [
    "<div class=\"alert alert-success\">\n",
    "<h2> Комментарий ревьюера <a class=\"tocSkip\"> </h2>\n",
    "Обрати, пожалуйста, внимание на эту вводную часть. В следующих проектах ее нужно будет писать самостоятельно, сейчас хороший момент, чтобы понять, как пишутся вводные к проектам ;)"
   ]
  },
  {
   "cell_type": "markdown",
   "metadata": {
    "id": "Ml1hmfXC_Zcs"
   },
   "source": [
    "## Обзор данных\n",
    "\n",
    "Составьте первое представление о данных Яндекс.Музыки.\n",
    "\n",
    "\n"
   ]
  },
  {
   "cell_type": "markdown",
   "metadata": {
    "id": "57eAOGIz_Zcs"
   },
   "source": [
    "Основной инструмент аналитика — `pandas`. Импортируйте эту библиотеку."
   ]
  },
  {
   "cell_type": "code",
   "execution_count": 1,
   "metadata": {
    "id": "AXN7PHPN_Zcs"
   },
   "outputs": [],
   "source": [
    "# импорт библиотеки pandas \n",
    "import pandas as pd "
   ]
  },
  {
   "cell_type": "markdown",
   "metadata": {},
   "source": [
    "<div class=\"alert alert-success\">\n",
    "<h2> Комментарий ревьюера <a class=\"tocSkip\"> </h2>\n",
    "Здорово, что ты используешь сокращение pd для Pandas, это общепринятое сокращение для этой библиотеки для удобной дальнейшей работы."
   ]
  },
  {
   "cell_type": "markdown",
   "metadata": {
    "id": "SG23P8tt_Zcs"
   },
   "source": [
    "Прочитайте файл `yandex_music_project.csv` из папки `/datasets` и сохраните его в переменной `df`:"
   ]
  },
  {
   "cell_type": "code",
   "execution_count": 18,
   "metadata": {
    "id": "fFVu7vqh_Zct"
   },
   "outputs": [],
   "source": [
    "# чтение файла с данными и сохранение в df\n",
    "df = pd.read_csv('/datasets/yandex_music_project.csv') "
   ]
  },
  {
   "cell_type": "markdown",
   "metadata": {},
   "source": [
    "<div class=\"alert alert-danger\">\n",
    "<h2> Комментарий ревьюера <a class=\"tocSkip\"> </h2>\n",
    "А вот здесь код упал :(, я его починила, чтобы иметь возможность дальше проверить проект. Но в будущем, пожалуйста, отнесись с пониманием к тому, что ревьюер может отправить работу не проверяя, если код не отработал полностью. <p>Как себя подстраховать: перед тем, как отправить работу, нажать на панели инструментов Kernel -> Restart&Run All, проскроллить проект до конца и убедиться, что все ячейки отработали.</p>"
   ]
  },
  {
   "cell_type": "markdown",
   "metadata": {},
   "source": [
    "<div class=\"alert alert-info\"> <b>Комментарий студента:</b>Лен, привет, спасибо большое за ревью. Подскажи, пожалуйста, я  выполнял проект на винде, а как я понимаю, веб версия юпитера в практикуме стоит на чем-то похожем на линукс, я, если честно, не помню, была ли у меня возможность посмотреть после загрузки тетрадки на практикум веб версию своей работы, но, у меня следующий вопрос: путь к файлу в веб версии абсолютный и так как веб версия тетрадки на линуксе, то я на винде не смогу запустить с указанным путем под линукс и отправить, что в такой ситуации делать? Просто помнить, что проверка будет на линуксе и после проверки у себя локально менять путь согласно ТЗ? \n",
    "   PS поправил путь к файлу. </div>"
   ]
  },
  {
   "cell_type": "markdown",
   "metadata": {},
   "source": [
    "<div class=\"alert alert-success\">\n",
    "<h2> Комментарий ревьюера V2<a class=\"tocSkip\"> </h2>\n",
    "Привет-привет! Впервые встречаю уже прям первый проект выполненный локально.)) На ближайшей встрече остановлюсь на этом вопросе, пока держи один из вариантов решения проблемы в виде готового кода."
   ]
  },
  {
   "cell_type": "code",
   "execution_count": null,
   "metadata": {},
   "outputs": [],
   "source": [
    "# код ревьюера. Как загружать файлы с разными путями.\n",
    "\n",
    "import os \n",
    "\n",
    "if os.path.exists('/datasets/yandex_music_project.csv'):\n",
    "    data = pd.read_csv('/datasets/yandex_music_project.csv')\n",
    "else:\n",
    "    data = pd.read_csv('путь_на_моем_компе')"
   ]
  },
  {
   "cell_type": "code",
   "execution_count": 4,
   "metadata": {},
   "outputs": [
    {
     "name": "stdout",
     "output_type": "stream",
     "text": [
      "/home/user-0-51437527/work\n",
      "53f59ec9-4570-4b8c-a4d2-68d325b49218.ipynb\n",
      "b08874fe-05ba-4f14-b222-8bc05765b3e6.ipynb\n"
     ]
    }
   ],
   "source": [
    "!pwd\n",
    "!ls"
   ]
  },
  {
   "cell_type": "code",
   "execution_count": 5,
   "metadata": {},
   "outputs": [],
   "source": [
    "# код ревьюера\n",
    "\n",
    "df = pd.read_csv('/datasets/yandex_music_project.csv') "
   ]
  },
  {
   "cell_type": "markdown",
   "metadata": {
    "id": "rDoOMd3uTqnZ"
   },
   "source": [
    "Выведите на экран первые десять строк таблицы:"
   ]
  },
  {
   "cell_type": "code",
   "execution_count": 6,
   "metadata": {
    "id": "oWTVX3gW_Zct"
   },
   "outputs": [
    {
     "data": {
      "text/html": [
       "<div>\n",
       "<style scoped>\n",
       "    .dataframe tbody tr th:only-of-type {\n",
       "        vertical-align: middle;\n",
       "    }\n",
       "\n",
       "    .dataframe tbody tr th {\n",
       "        vertical-align: top;\n",
       "    }\n",
       "\n",
       "    .dataframe thead th {\n",
       "        text-align: right;\n",
       "    }\n",
       "</style>\n",
       "<table border=\"1\" class=\"dataframe\">\n",
       "  <thead>\n",
       "    <tr style=\"text-align: right;\">\n",
       "      <th></th>\n",
       "      <th>userID</th>\n",
       "      <th>Track</th>\n",
       "      <th>artist</th>\n",
       "      <th>genre</th>\n",
       "      <th>City</th>\n",
       "      <th>time</th>\n",
       "      <th>Day</th>\n",
       "    </tr>\n",
       "  </thead>\n",
       "  <tbody>\n",
       "    <tr>\n",
       "      <th>0</th>\n",
       "      <td>FFB692EC</td>\n",
       "      <td>Kamigata To Boots</td>\n",
       "      <td>The Mass Missile</td>\n",
       "      <td>rock</td>\n",
       "      <td>Saint-Petersburg</td>\n",
       "      <td>20:28:33</td>\n",
       "      <td>Wednesday</td>\n",
       "    </tr>\n",
       "    <tr>\n",
       "      <th>1</th>\n",
       "      <td>55204538</td>\n",
       "      <td>Delayed Because of Accident</td>\n",
       "      <td>Andreas Rönnberg</td>\n",
       "      <td>rock</td>\n",
       "      <td>Moscow</td>\n",
       "      <td>14:07:09</td>\n",
       "      <td>Friday</td>\n",
       "    </tr>\n",
       "    <tr>\n",
       "      <th>2</th>\n",
       "      <td>20EC38</td>\n",
       "      <td>Funiculì funiculà</td>\n",
       "      <td>Mario Lanza</td>\n",
       "      <td>pop</td>\n",
       "      <td>Saint-Petersburg</td>\n",
       "      <td>20:58:07</td>\n",
       "      <td>Wednesday</td>\n",
       "    </tr>\n",
       "    <tr>\n",
       "      <th>3</th>\n",
       "      <td>A3DD03C9</td>\n",
       "      <td>Dragons in the Sunset</td>\n",
       "      <td>Fire + Ice</td>\n",
       "      <td>folk</td>\n",
       "      <td>Saint-Petersburg</td>\n",
       "      <td>08:37:09</td>\n",
       "      <td>Monday</td>\n",
       "    </tr>\n",
       "    <tr>\n",
       "      <th>4</th>\n",
       "      <td>E2DC1FAE</td>\n",
       "      <td>Soul People</td>\n",
       "      <td>Space Echo</td>\n",
       "      <td>dance</td>\n",
       "      <td>Moscow</td>\n",
       "      <td>08:34:34</td>\n",
       "      <td>Monday</td>\n",
       "    </tr>\n",
       "    <tr>\n",
       "      <th>5</th>\n",
       "      <td>842029A1</td>\n",
       "      <td>Преданная</td>\n",
       "      <td>IMPERVTOR</td>\n",
       "      <td>rusrap</td>\n",
       "      <td>Saint-Petersburg</td>\n",
       "      <td>13:09:41</td>\n",
       "      <td>Friday</td>\n",
       "    </tr>\n",
       "    <tr>\n",
       "      <th>6</th>\n",
       "      <td>4CB90AA5</td>\n",
       "      <td>True</td>\n",
       "      <td>Roman Messer</td>\n",
       "      <td>dance</td>\n",
       "      <td>Moscow</td>\n",
       "      <td>13:00:07</td>\n",
       "      <td>Wednesday</td>\n",
       "    </tr>\n",
       "    <tr>\n",
       "      <th>7</th>\n",
       "      <td>F03E1C1F</td>\n",
       "      <td>Feeling This Way</td>\n",
       "      <td>Polina Griffith</td>\n",
       "      <td>dance</td>\n",
       "      <td>Moscow</td>\n",
       "      <td>20:47:49</td>\n",
       "      <td>Wednesday</td>\n",
       "    </tr>\n",
       "    <tr>\n",
       "      <th>8</th>\n",
       "      <td>8FA1D3BE</td>\n",
       "      <td>И вновь продолжается бой</td>\n",
       "      <td>NaN</td>\n",
       "      <td>ruspop</td>\n",
       "      <td>Moscow</td>\n",
       "      <td>09:17:40</td>\n",
       "      <td>Friday</td>\n",
       "    </tr>\n",
       "    <tr>\n",
       "      <th>9</th>\n",
       "      <td>E772D5C0</td>\n",
       "      <td>Pessimist</td>\n",
       "      <td>NaN</td>\n",
       "      <td>dance</td>\n",
       "      <td>Saint-Petersburg</td>\n",
       "      <td>21:20:49</td>\n",
       "      <td>Wednesday</td>\n",
       "    </tr>\n",
       "  </tbody>\n",
       "</table>\n",
       "</div>"
      ],
      "text/plain": [
       "     userID                        Track            artist   genre  \\\n",
       "0  FFB692EC            Kamigata To Boots  The Mass Missile    rock   \n",
       "1  55204538  Delayed Because of Accident  Andreas Rönnberg    rock   \n",
       "2    20EC38            Funiculì funiculà       Mario Lanza     pop   \n",
       "3  A3DD03C9        Dragons in the Sunset        Fire + Ice    folk   \n",
       "4  E2DC1FAE                  Soul People        Space Echo   dance   \n",
       "5  842029A1                    Преданная         IMPERVTOR  rusrap   \n",
       "6  4CB90AA5                         True      Roman Messer   dance   \n",
       "7  F03E1C1F             Feeling This Way   Polina Griffith   dance   \n",
       "8  8FA1D3BE     И вновь продолжается бой               NaN  ruspop   \n",
       "9  E772D5C0                    Pessimist               NaN   dance   \n",
       "\n",
       "             City        time        Day  \n",
       "0  Saint-Petersburg  20:28:33  Wednesday  \n",
       "1            Moscow  14:07:09     Friday  \n",
       "2  Saint-Petersburg  20:58:07  Wednesday  \n",
       "3  Saint-Petersburg  08:37:09     Monday  \n",
       "4            Moscow  08:34:34     Monday  \n",
       "5  Saint-Petersburg  13:09:41     Friday  \n",
       "6            Moscow  13:00:07  Wednesday  \n",
       "7            Moscow  20:47:49  Wednesday  \n",
       "8            Moscow  09:17:40     Friday  \n",
       "9  Saint-Petersburg  21:20:49  Wednesday  "
      ]
     },
     "execution_count": 6,
     "metadata": {},
     "output_type": "execute_result"
    }
   ],
   "source": [
    "# получение первых 10 строк таблицы df\n",
    "df.head(10) "
   ]
  },
  {
   "cell_type": "markdown",
   "metadata": {
    "id": "EO73Kwic_Zct"
   },
   "source": [
    "Одной командой получить общую информацию о таблице:"
   ]
  },
  {
   "cell_type": "code",
   "execution_count": 7,
   "metadata": {
    "id": "DSf2kIb-_Zct",
    "scrolled": true
   },
   "outputs": [
    {
     "name": "stdout",
     "output_type": "stream",
     "text": [
      "<class 'pandas.core.frame.DataFrame'>\n",
      "RangeIndex: 65079 entries, 0 to 65078\n",
      "Data columns (total 7 columns):\n",
      " #   Column    Non-Null Count  Dtype \n",
      "---  ------    --------------  ----- \n",
      " 0     userID  65079 non-null  object\n",
      " 1   Track     63848 non-null  object\n",
      " 2   artist    57876 non-null  object\n",
      " 3   genre     63881 non-null  object\n",
      " 4     City    65079 non-null  object\n",
      " 5   time      65079 non-null  object\n",
      " 6   Day       65079 non-null  object\n",
      "dtypes: object(7)\n",
      "memory usage: 3.5+ MB\n"
     ]
    }
   ],
   "source": [
    "# получение общей информации о данных в таблице df\n",
    "df.info()"
   ]
  },
  {
   "cell_type": "markdown",
   "metadata": {},
   "source": [
    "<div class=\"alert alert-success\">\n",
    "<h2> Комментарий ревьюера <a class=\"tocSkip\"> </h2>\n",
    "Отличный выбор, метод info действительно показывает много информации о датафрейме."
   ]
  },
  {
   "cell_type": "markdown",
   "metadata": {
    "id": "TaQ2Iwbr_Zct"
   },
   "source": [
    "Итак, в таблице семь столбцов. Тип данных во всех столбцах — `object`.\n",
    "\n",
    "Согласно документации к данным:\n",
    "* `userID` — идентификатор пользователя;\n",
    "* `Track` — название трека;  \n",
    "* `artist` — имя исполнителя;\n",
    "* `genre` — название жанра;\n",
    "* `City` — город пользователя;\n",
    "* `time` — время начала прослушивания;\n",
    "* `Day` — день недели.\n",
    "\n",
    "В названиях колонок видны три нарушения стиля:\n",
    "1. Строчные буквы сочетаются с прописными.\n",
    "2. Встречаются пробелы.\n",
    "3. Отсутствует змеиный регистр.\n",
    "\n",
    "\n",
    "\n",
    "\n",
    "Количество значений в столбцах различается. Значит, в данных есть пропущенные значения.\n"
   ]
  },
  {
   "cell_type": "markdown",
   "metadata": {},
   "source": [
    "<div class=\"alert alert-success\">\n",
    "<h2> Комментарий ревьюера <a class=\"tocSkip\"> </h2>\n",
    "Да, согласна, \"верблюжий стиль\" мы стараемся не использовать."
   ]
  },
  {
   "cell_type": "markdown",
   "metadata": {
    "id": "MCB6-dXG_Zct"
   },
   "source": [
    "**Выводы**\n",
    "\n",
    "В каждой строке таблицы — данные о прослушанном треке. Часть колонок описывает саму композицию: название, исполнителя и жанр. Остальные данные рассказывают о пользователе: из какого он города, когда он слушал музыку. \n",
    "\n",
    "Предварительно можно утверждать, что, данных достаточно для проверки гипотез. Но встречаются пропуски в данных, а в названиях колонок — расхождения с хорошим стилем.\n",
    "\n",
    "Чтобы двигаться дальше, нужно устранить проблемы в данных."
   ]
  },
  {
   "cell_type": "markdown",
   "metadata": {},
   "source": [
    "<div class=\"alert alert-success\">\n",
    "<h2> Комментарий ревьюера <a class=\"tocSkip\"> </h2>\n",
    "    И опять предложу обратить внимание на текстовую часть - промежуточный вывод. В следующем проекте его нужно будет писать самостоятельно. Обычно это информация о том, что ты увидел: стиль названия столбцов, наличие пропущенных значений, краткая информация о составе данных."
   ]
  },
  {
   "cell_type": "markdown",
   "metadata": {
    "id": "SjYF6Ub9_Zct"
   },
   "source": [
    "## Предобработка данных\n",
    "Исправьте стиль в заголовках столбцов, исключите пропуски. Затем проверьте данные на дубликаты."
   ]
  },
  {
   "cell_type": "markdown",
   "metadata": {
    "id": "dIaKXr29_Zct"
   },
   "source": [
    "### Стиль заголовков\n",
    "Выведите на экран названия столбцов:"
   ]
  },
  {
   "cell_type": "code",
   "execution_count": 8,
   "metadata": {
    "id": "oKOTdF_Q_Zct"
   },
   "outputs": [
    {
     "data": {
      "text/plain": [
       "Index(['  userID', 'Track', 'artist', 'genre', '  City  ', 'time', 'Day'], dtype='object')"
      ]
     },
     "execution_count": 8,
     "metadata": {},
     "output_type": "execute_result"
    }
   ],
   "source": [
    "# перечень названий столбцов таблицы df\n",
    "df.columns "
   ]
  },
  {
   "cell_type": "markdown",
   "metadata": {
    "id": "FPZA3ki8xe7T"
   },
   "source": [
    "<div class=\"alert alert-success\">\n",
    "<h2> Комментарий ревьюера <a class=\"tocSkip\"> </h2>\n",
    "Отлично, мы видим полностью названия колонок, включая лишние пробелы. "
   ]
  },
  {
   "cell_type": "markdown",
   "metadata": {
    "id": "zj5534cv_Zct"
   },
   "source": [
    "Приведите названия в соответствие с хорошим стилем:\n",
    "* несколько слов в названии запишите в «змеином_регистре»,\n",
    "* все символы сделайте строчными,\n",
    "* устраните пробелы.\n",
    "\n",
    "Для этого переименуйте колонки так:\n",
    "* `'  userID'` → `'user_id'`;\n",
    "* `'Track'` → `'track'`;\n",
    "* `'  City  '` → `'city'`;\n",
    "* `'Day'` → `'day'`."
   ]
  },
  {
   "cell_type": "code",
   "execution_count": 3,
   "metadata": {
    "id": "ISlFqs5y_Zct"
   },
   "outputs": [],
   "source": [
    "# переименование столбцов\n",
    "df = df.rename(\n",
    "    columns={'  userID': 'user_id',\n",
    "             'Track': 'track',\n",
    "             '  City  ': 'city',\n",
    "             'Day': 'day',\n",
    "            }\n",
    ")"
   ]
  },
  {
   "cell_type": "markdown",
   "metadata": {},
   "source": [
    "<div class=\"alert alert-success\">\n",
    "<h2> Комментарий ревьюера <a class=\"tocSkip\"> </h2>\n",
    "👍"
   ]
  },
  {
   "cell_type": "markdown",
   "metadata": {
    "id": "1dqbh00J_Zct"
   },
   "source": [
    "Проверьте результат. Для этого ещё раз выведите на экран названия столбцов:"
   ]
  },
  {
   "cell_type": "code",
   "execution_count": 4,
   "metadata": {
    "id": "d4NOAmTW_Zct"
   },
   "outputs": [
    {
     "data": {
      "text/plain": [
       "Index(['user_id', 'track', 'artist', 'genre', 'city', 'time', 'day'], dtype='object')"
      ]
     },
     "execution_count": 4,
     "metadata": {},
     "output_type": "execute_result"
    }
   ],
   "source": [
    "# проверка результатов - перечень названий столбцов\n",
    "df.columns"
   ]
  },
  {
   "cell_type": "markdown",
   "metadata": {
    "id": "5ISfbcfY_Zct"
   },
   "source": [
    "### Пропуски значений\n",
    "Сначала посчитайте, сколько в таблице пропущенных значений. Для этого достаточно двух методов `pandas`:"
   ]
  },
  {
   "cell_type": "code",
   "execution_count": 11,
   "metadata": {
    "id": "RskX29qr_Zct"
   },
   "outputs": [
    {
     "data": {
      "text/plain": [
       "user_id       0\n",
       "track      1231\n",
       "artist     7203\n",
       "genre      1198\n",
       "city          0\n",
       "time          0\n",
       "day           0\n",
       "dtype: int64"
      ]
     },
     "execution_count": 11,
     "metadata": {},
     "output_type": "execute_result"
    }
   ],
   "source": [
    "# подсчёт пропусков\n",
    "df.isna().sum()\n"
   ]
  },
  {
   "cell_type": "markdown",
   "metadata": {},
   "source": [
    "<div class=\"alert alert-success\">\n",
    "<h2> Комментарий ревьюера <a class=\"tocSkip\"> </h2>\n",
    "Ты использовал метод isna() для нахождения пропущенных значений, это отлично! На самом деле, isnull() и isna() делают одно и то же, но использование isna() предпочтительнее."
   ]
  },
  {
   "cell_type": "markdown",
   "metadata": {
    "id": "qubhgnlO_Zct"
   },
   "source": [
    "Не все пропущенные значения влияют на исследование. Так в `track` и `artist` пропуски не важны для вашей работы. Достаточно заменить их явными обозначениями.\n",
    "\n",
    "Но пропуски в `genre` могут помешать сравнению музыкальных вкусов в Москве и Санкт-Петербурге. На практике было бы правильно установить причину пропусков и восстановить данные. Такой возможности нет в учебном проекте. Придётся:\n",
    "* заполнить и эти пропуски явными обозначениями,\n",
    "* оценить, насколько они повредят расчётам. "
   ]
  },
  {
   "cell_type": "markdown",
   "metadata": {
    "id": "fSv2laPA_Zct"
   },
   "source": [
    "Замените пропущенные значения в столбцах `track`, `artist` и `genre` на строку `'unknown'`. Для этого создайте список `columns_to_replace`, переберите его элементы циклом `for` и для каждого столбца выполните замену пропущенных значений:"
   ]
  },
  {
   "cell_type": "code",
   "execution_count": 5,
   "metadata": {
    "id": "KplB5qWs_Zct"
   },
   "outputs": [],
   "source": [
    "# перебор названий столбцов в цикле и замена пропущенных значений на 'unknown'\n",
    "\n",
    "columns_to_replace = ['track', 'artist', 'genre']\n",
    "for column in columns_to_replace:\n",
    "    df[column] = df[column].fillna('unknown')"
   ]
  },
  {
   "cell_type": "markdown",
   "metadata": {},
   "source": [
    "<div class=\"alert alert-success\">\n",
    "<h2> Комментарий ревьюера <a class=\"tocSkip\"> </h2>\n",
    "Все получилось! Список columns_to_replace сформирован верно, цикл отработал без ошибок."
   ]
  },
  {
   "cell_type": "markdown",
   "metadata": {
    "id": "Ilsm-MZo_Zct"
   },
   "source": [
    "Убедитесь, что в таблице не осталось пропусков. Для этого ещё раз посчитайте пропущенные значения."
   ]
  },
  {
   "cell_type": "code",
   "execution_count": 13,
   "metadata": {
    "id": "Tq4nYRX4_Zct"
   },
   "outputs": [
    {
     "data": {
      "text/plain": [
       "user_id    0\n",
       "track      0\n",
       "artist     0\n",
       "genre      0\n",
       "city       0\n",
       "time       0\n",
       "day        0\n",
       "dtype: int64"
      ]
     },
     "execution_count": 13,
     "metadata": {},
     "output_type": "execute_result"
    }
   ],
   "source": [
    "# подсчёт пропусков\n",
    "df.isna().sum()"
   ]
  },
  {
   "cell_type": "markdown",
   "metadata": {},
   "source": [
    "<div class=\"alert alert-success\">\n",
    "<h2> Комментарий ревьюера <a class=\"tocSkip\"> </h2>\n",
    "Все получилось! Хорошо бы и в будущем не забывать себя проверять ;)"
   ]
  },
  {
   "cell_type": "markdown",
   "metadata": {
    "id": "BWKRtBJ3_Zct"
   },
   "source": [
    "### Дубликаты\n",
    "Посчитайте явные дубликаты в таблице одной командой:"
   ]
  },
  {
   "cell_type": "code",
   "execution_count": 14,
   "metadata": {
    "id": "36eES_S0_Zct"
   },
   "outputs": [
    {
     "data": {
      "text/plain": [
       "3826"
      ]
     },
     "execution_count": 14,
     "metadata": {},
     "output_type": "execute_result"
    }
   ],
   "source": [
    "# подсчёт явных дубликатов\n",
    "df.duplicated().sum()"
   ]
  },
  {
   "cell_type": "markdown",
   "metadata": {},
   "source": [
    "<div class=\"alert alert-success\">\n",
    "<h2> Комментарий ревьюера <a class=\"tocSkip\"> </h2>\n",
    "Дубликаты найдены верно и посчитаны оптимальным способом."
   ]
  },
  {
   "cell_type": "markdown",
   "metadata": {
    "id": "Ot25h6XR_Zct"
   },
   "source": [
    "Вызовите специальный метод `pandas`, чтобы удалить явные дубликаты:"
   ]
  },
  {
   "cell_type": "code",
   "execution_count": 6,
   "metadata": {
    "id": "exFHq6tt_Zct"
   },
   "outputs": [],
   "source": [
    "# удаление явных дубликатов (с удалением старых индексов и формированием новых)\n",
    "df = df.drop_duplicates().reset_index(drop=True)"
   ]
  },
  {
   "cell_type": "markdown",
   "metadata": {},
   "source": [
    "<div class=\"alert alert-success\">\n",
    "<h2> Комментарий ревьюера <a class=\"tocSkip\"> </h2>\n",
    "👍Дубликаты удалены, индексы перерасчитаны."
   ]
  },
  {
   "cell_type": "markdown",
   "metadata": {
    "id": "Im2YwBEG_Zct"
   },
   "source": [
    "Ещё раз посчитайте явные дубликаты в таблице — убедитесь, что полностью от них избавились:"
   ]
  },
  {
   "cell_type": "code",
   "execution_count": 16,
   "metadata": {
    "id": "-8PuNWQ0_Zct"
   },
   "outputs": [
    {
     "data": {
      "text/plain": [
       "0"
      ]
     },
     "execution_count": 16,
     "metadata": {},
     "output_type": "execute_result"
    }
   ],
   "source": [
    "# проверка на отсутствие дубликатов\n",
    "df.duplicated().sum()"
   ]
  },
  {
   "cell_type": "markdown",
   "metadata": {
    "id": "QlFBsxAr_Zct"
   },
   "source": [
    "Теперь избавьтесь от неявных дубликатов в колонке `genre`. Например, название одного и того же жанра может быть записано немного по-разному. Такие ошибки тоже повлияют на результат исследования."
   ]
  },
  {
   "cell_type": "markdown",
   "metadata": {
    "id": "eSjWwsOh_Zct"
   },
   "source": [
    "Выведите на экран список уникальных названий жанров, отсортированный в алфавитном порядке. Для этого:\n",
    "* извлеките нужный столбец датафрейма, \n",
    "* примените к нему метод сортировки,\n",
    "* для отсортированного столбца вызовите метод, который вернёт уникальные значения из столбца."
   ]
  },
  {
   "cell_type": "code",
   "execution_count": 17,
   "metadata": {
    "id": "JIUcqzZN_Zct"
   },
   "outputs": [
    {
     "data": {
      "text/plain": [
       "array(['acid', 'acoustic', 'action', 'adult', 'africa', 'afrikaans',\n",
       "       'alternative', 'alternativepunk', 'ambient', 'americana',\n",
       "       'animated', 'anime', 'arabesk', 'arabic', 'arena',\n",
       "       'argentinetango', 'art', 'audiobook', 'author', 'avantgarde',\n",
       "       'axé', 'baile', 'balkan', 'beats', 'bigroom', 'black', 'bluegrass',\n",
       "       'blues', 'bollywood', 'bossa', 'brazilian', 'breakbeat', 'breaks',\n",
       "       'broadway', 'cantautori', 'cantopop', 'canzone', 'caribbean',\n",
       "       'caucasian', 'celtic', 'chamber', 'chanson', 'children', 'chill',\n",
       "       'chinese', 'choral', 'christian', 'christmas', 'classical',\n",
       "       'classicmetal', 'club', 'colombian', 'comedy', 'conjazz',\n",
       "       'contemporary', 'country', 'cuban', 'dance', 'dancehall',\n",
       "       'dancepop', 'dark', 'death', 'deep', 'deutschrock', 'deutschspr',\n",
       "       'dirty', 'disco', 'dnb', 'documentary', 'downbeat', 'downtempo',\n",
       "       'drum', 'dub', 'dubstep', 'eastern', 'easy', 'electronic',\n",
       "       'electropop', 'emo', 'entehno', 'epicmetal', 'estrada', 'ethnic',\n",
       "       'eurofolk', 'european', 'experimental', 'extrememetal', 'fado',\n",
       "       'fairytail', 'film', 'fitness', 'flamenco', 'folk', 'folklore',\n",
       "       'folkmetal', 'folkrock', 'folktronica', 'forró', 'frankreich',\n",
       "       'französisch', 'french', 'funk', 'future', 'gangsta', 'garage',\n",
       "       'german', 'ghazal', 'gitarre', 'glitch', 'gospel', 'gothic',\n",
       "       'grime', 'grunge', 'gypsy', 'handsup', \"hard'n'heavy\", 'hardcore',\n",
       "       'hardstyle', 'hardtechno', 'hip', 'hip-hop', 'hiphop',\n",
       "       'historisch', 'holiday', 'hop', 'horror', 'house', 'hymn', 'idm',\n",
       "       'independent', 'indian', 'indie', 'indipop', 'industrial',\n",
       "       'inspirational', 'instrumental', 'international', 'irish', 'jam',\n",
       "       'japanese', 'jazz', 'jewish', 'jpop', 'jungle', 'k-pop',\n",
       "       'karadeniz', 'karaoke', 'kayokyoku', 'korean', 'laiko', 'latin',\n",
       "       'latino', 'leftfield', 'local', 'lounge', 'loungeelectronic',\n",
       "       'lovers', 'malaysian', 'mandopop', 'marschmusik', 'meditative',\n",
       "       'mediterranean', 'melodic', 'metal', 'metalcore', 'mexican',\n",
       "       'middle', 'minimal', 'miscellaneous', 'modern', 'mood', 'mpb',\n",
       "       'muslim', 'native', 'neoklassik', 'neue', 'new', 'newage',\n",
       "       'newwave', 'nu', 'nujazz', 'numetal', 'oceania', 'old', 'opera',\n",
       "       'orchestral', 'other', 'piano', 'podcasts', 'pop', 'popdance',\n",
       "       'popelectronic', 'popeurodance', 'poprussian', 'post',\n",
       "       'posthardcore', 'postrock', 'power', 'progmetal', 'progressive',\n",
       "       'psychedelic', 'punjabi', 'punk', 'quebecois', 'ragga', 'ram',\n",
       "       'rancheras', 'rap', 'rave', 'reggae', 'reggaeton', 'regional',\n",
       "       'relax', 'religious', 'retro', 'rhythm', 'rnb', 'rnr', 'rock',\n",
       "       'rockabilly', 'rockalternative', 'rockindie', 'rockother',\n",
       "       'romance', 'roots', 'ruspop', 'rusrap', 'rusrock', 'russian',\n",
       "       'salsa', 'samba', 'scenic', 'schlager', 'self', 'sertanejo',\n",
       "       'shanson', 'shoegazing', 'showtunes', 'singer', 'ska', 'skarock',\n",
       "       'slow', 'smooth', 'soft', 'soul', 'soulful', 'sound', 'soundtrack',\n",
       "       'southern', 'specialty', 'speech', 'spiritual', 'sport',\n",
       "       'stonerrock', 'surf', 'swing', 'synthpop', 'synthrock',\n",
       "       'sängerportrait', 'tango', 'tanzorchester', 'taraftar', 'tatar',\n",
       "       'tech', 'techno', 'teen', 'thrash', 'top', 'traditional',\n",
       "       'tradjazz', 'trance', 'tribal', 'trip', 'triphop', 'tropical',\n",
       "       'türk', 'türkçe', 'ukrrock', 'unknown', 'urban', 'uzbek',\n",
       "       'variété', 'vi', 'videogame', 'vocal', 'western', 'world',\n",
       "       'worldbeat', 'ïîï', 'электроника'], dtype=object)"
      ]
     },
     "execution_count": 17,
     "metadata": {},
     "output_type": "execute_result"
    }
   ],
   "source": [
    "# Просмотр уникальных названий жанров\n",
    "df['genre'].sort_values(ascending=True).unique()"
   ]
  },
  {
   "cell_type": "markdown",
   "metadata": {},
   "source": [
    "<div class=\"alert alert-success\">\n",
    "<h2> Комментарий ревьюера <a class=\"tocSkip\"> </h2>\n",
    "С задачей успешно справился! Хочу только обратить внимание, что у метода sort_values() параметр ascending по умолчанию равен True и его можно было не писать. На всякий случай ссылка на документацию: https://pandas.pydata.org/docs/reference/api/pandas.DataFrame.sort_values.html"
   ]
  },
  {
   "cell_type": "markdown",
   "metadata": {
    "id": "qej-Qmuo_Zct"
   },
   "source": [
    "Просмотрите список и найдите неявные дубликаты названия `hiphop`. Это могут быть названия с ошибками или альтернативные названия того же жанра.\n",
    "\n",
    "Вы увидите следующие неявные дубликаты:\n",
    "* *hip*,\n",
    "* *hop*,\n",
    "* *hip-hop*.\n",
    "\n",
    "Чтобы очистить от них таблицу, напишите функцию `replace_wrong_genres()` с двумя параметрами: \n",
    "* `wrong_genres` — список дубликатов,\n",
    "* `correct_genre` — строка с правильным значением.\n",
    "\n",
    "Функция должна исправить колонку `genre` в таблице `df`: заменить каждое значение из списка `wrong_genres` на значение из `correct_genre`."
   ]
  },
  {
   "cell_type": "code",
   "execution_count": 20,
   "metadata": {
    "id": "ErNDkmns_Zct"
   },
   "outputs": [],
   "source": [
    "# Функция для замены неявных дубликатов\n",
    "def replace_wrong_genres(wrong_genres, correct_genre):\n",
    "    df['genre'] = df['genre'].replace(wrong_genres, correct_genre)\n",
    "    return df['genre']\n",
    "    \n",
    "    "
   ]
  },
  {
   "cell_type": "markdown",
   "metadata": {},
   "source": [
    "<div class=\"alert alert-success\">\n",
    "<h2> Комментарий ревьюера <a class=\"tocSkip\"> </h2>\n",
    "Ты справился, но есть такой момент: return говорит какой объект должна вернуть функция. Соответственно он нужен всегда, когда функция создает какой-то новый объект.\n",
    "Если функция изменяет существующий объект (часто это плохое решение, но раз заказчик просит) или просто что-то печатает, то return не нужен."
   ]
  },
  {
   "cell_type": "markdown",
   "metadata": {},
   "source": [
    "<div class=\"alert alert-info\"> <b>Комментарий студента:</b> Если убрать return у меня не работает проверка на неявные дубликаты, пишет  \n",
    "    array([None], dtype=object)\n",
    "    ,если вывести df['genre'], везде значение None\n",
    "    Почему? не знаю\n",
    "</div>"
   ]
  },
  {
   "cell_type": "markdown",
   "metadata": {},
   "source": [
    "<div class=\"alert alert-success\">\n",
    "<h2> Комментарий ревьюера V2<a class=\"tocSkip\"> </h2>\n",
    "Потому что ты дальше делаешь присваивание результатов функции df['genre'], а нужно просто вызвать функцию replace_wrong_genres(wrong_genres, correct_genre)."
   ]
  },
  {
   "cell_type": "markdown",
   "metadata": {
    "id": "aDoBJxbA_Zct"
   },
   "source": [
    "Вызовите `replace_wrong_genres()` и передайте ей такие аргументы, чтобы она устранила неявные дубликаты: вместо `hip`, `hop` и `hip-hop` в таблице должно быть значение `hiphop`:"
   ]
  },
  {
   "cell_type": "code",
   "execution_count": 21,
   "metadata": {
    "id": "YN5i2hpmSo09"
   },
   "outputs": [],
   "source": [
    "# Устранение неявных дубликатов\n",
    "wrong_genres = 'hip','hop','hip-hop'\n",
    "correct_genre = 'hiphop'\n",
    "df['genre'] = replace_wrong_genres(wrong_genres, correct_genre)"
   ]
  },
  {
   "cell_type": "markdown",
   "metadata": {
    "id": "zQKF16_RG15m"
   },
   "source": [
    "Проверьте, что заменили неправильные названия:\n",
    "\n",
    "*   hip\n",
    "*   hop\n",
    "*   hip-hop\n",
    "\n",
    "Выведите отсортированный список уникальных значений столбца `genre`:"
   ]
  },
  {
   "cell_type": "code",
   "execution_count": 20,
   "metadata": {
    "id": "wvixALnFG15m"
   },
   "outputs": [
    {
     "data": {
      "text/plain": [
       "array(['acid', 'acoustic', 'action', 'adult', 'africa', 'afrikaans',\n",
       "       'alternative', 'alternativepunk', 'ambient', 'americana',\n",
       "       'animated', 'anime', 'arabesk', 'arabic', 'arena',\n",
       "       'argentinetango', 'art', 'audiobook', 'author', 'avantgarde',\n",
       "       'axé', 'baile', 'balkan', 'beats', 'bigroom', 'black', 'bluegrass',\n",
       "       'blues', 'bollywood', 'bossa', 'brazilian', 'breakbeat', 'breaks',\n",
       "       'broadway', 'cantautori', 'cantopop', 'canzone', 'caribbean',\n",
       "       'caucasian', 'celtic', 'chamber', 'chanson', 'children', 'chill',\n",
       "       'chinese', 'choral', 'christian', 'christmas', 'classical',\n",
       "       'classicmetal', 'club', 'colombian', 'comedy', 'conjazz',\n",
       "       'contemporary', 'country', 'cuban', 'dance', 'dancehall',\n",
       "       'dancepop', 'dark', 'death', 'deep', 'deutschrock', 'deutschspr',\n",
       "       'dirty', 'disco', 'dnb', 'documentary', 'downbeat', 'downtempo',\n",
       "       'drum', 'dub', 'dubstep', 'eastern', 'easy', 'electronic',\n",
       "       'electropop', 'emo', 'entehno', 'epicmetal', 'estrada', 'ethnic',\n",
       "       'eurofolk', 'european', 'experimental', 'extrememetal', 'fado',\n",
       "       'fairytail', 'film', 'fitness', 'flamenco', 'folk', 'folklore',\n",
       "       'folkmetal', 'folkrock', 'folktronica', 'forró', 'frankreich',\n",
       "       'französisch', 'french', 'funk', 'future', 'gangsta', 'garage',\n",
       "       'german', 'ghazal', 'gitarre', 'glitch', 'gospel', 'gothic',\n",
       "       'grime', 'grunge', 'gypsy', 'handsup', \"hard'n'heavy\", 'hardcore',\n",
       "       'hardstyle', 'hardtechno', 'hiphop', 'historisch', 'holiday',\n",
       "       'horror', 'house', 'hymn', 'idm', 'independent', 'indian', 'indie',\n",
       "       'indipop', 'industrial', 'inspirational', 'instrumental',\n",
       "       'international', 'irish', 'jam', 'japanese', 'jazz', 'jewish',\n",
       "       'jpop', 'jungle', 'k-pop', 'karadeniz', 'karaoke', 'kayokyoku',\n",
       "       'korean', 'laiko', 'latin', 'latino', 'leftfield', 'local',\n",
       "       'lounge', 'loungeelectronic', 'lovers', 'malaysian', 'mandopop',\n",
       "       'marschmusik', 'meditative', 'mediterranean', 'melodic', 'metal',\n",
       "       'metalcore', 'mexican', 'middle', 'minimal', 'miscellaneous',\n",
       "       'modern', 'mood', 'mpb', 'muslim', 'native', 'neoklassik', 'neue',\n",
       "       'new', 'newage', 'newwave', 'nu', 'nujazz', 'numetal', 'oceania',\n",
       "       'old', 'opera', 'orchestral', 'other', 'piano', 'podcasts', 'pop',\n",
       "       'popdance', 'popelectronic', 'popeurodance', 'poprussian', 'post',\n",
       "       'posthardcore', 'postrock', 'power', 'progmetal', 'progressive',\n",
       "       'psychedelic', 'punjabi', 'punk', 'quebecois', 'ragga', 'ram',\n",
       "       'rancheras', 'rap', 'rave', 'reggae', 'reggaeton', 'regional',\n",
       "       'relax', 'religious', 'retro', 'rhythm', 'rnb', 'rnr', 'rock',\n",
       "       'rockabilly', 'rockalternative', 'rockindie', 'rockother',\n",
       "       'romance', 'roots', 'ruspop', 'rusrap', 'rusrock', 'russian',\n",
       "       'salsa', 'samba', 'scenic', 'schlager', 'self', 'sertanejo',\n",
       "       'shanson', 'shoegazing', 'showtunes', 'singer', 'ska', 'skarock',\n",
       "       'slow', 'smooth', 'soft', 'soul', 'soulful', 'sound', 'soundtrack',\n",
       "       'southern', 'specialty', 'speech', 'spiritual', 'sport',\n",
       "       'stonerrock', 'surf', 'swing', 'synthpop', 'synthrock',\n",
       "       'sängerportrait', 'tango', 'tanzorchester', 'taraftar', 'tatar',\n",
       "       'tech', 'techno', 'teen', 'thrash', 'top', 'traditional',\n",
       "       'tradjazz', 'trance', 'tribal', 'trip', 'triphop', 'tropical',\n",
       "       'türk', 'türkçe', 'ukrrock', 'unknown', 'urban', 'uzbek',\n",
       "       'variété', 'vi', 'videogame', 'vocal', 'western', 'world',\n",
       "       'worldbeat', 'ïîï', 'электроника'], dtype=object)"
      ]
     },
     "execution_count": 20,
     "metadata": {},
     "output_type": "execute_result"
    }
   ],
   "source": [
    "# Проверка на неявные дубликаты\n",
    "df['genre'].sort_values(ascending=True).unique()\n",
    "\n",
    "\n"
   ]
  },
  {
   "cell_type": "code",
   "execution_count": 22,
   "metadata": {},
   "outputs": [
    {
     "name": "stdout",
     "output_type": "stream",
     "text": [
      "Неявные дубликаты устранены.\n"
     ]
    }
   ],
   "source": [
    "# Проверка на неявные дубликаты, если данных много:\n",
    "found_wrong_genres = 0\n",
    "\n",
    "for genre in wrong_genres:\n",
    "    if df[df['genre'] == genre]['genre'].count() == 0:\n",
    "        found_wrong_genres = 0\n",
    "    else:\n",
    "        found_wrong_genres  += 1\n",
    "if found_wrong_genres == 0:\n",
    "    print('Неявные дубликаты устранены.')\n",
    "else:\n",
    "    print('Проверь код.')"
   ]
  },
  {
   "cell_type": "markdown",
   "metadata": {},
   "source": [
    "<div class=\"alert alert-success\">\n",
    "<h2> Комментарий ревьюера <a class=\"tocSkip\"> </h2>\n",
    "Здорово, что озаботился вопросом автоматизации поиска. Но давай намекну, что ты сейчас внутри цикла ищешь весь набор \"плохих жанров\" (tuple wrong_genres) в столбце df['genre'] и его, конечно, нет. На всякий случай: попробуй запустить этот код ДО изменений про hiphop."
   ]
  },
  {
   "cell_type": "markdown",
   "metadata": {},
   "source": [
    "<div class=\"alert alert-info\"> <b>Комментарий студента:</b> Ошибку увидел, проверил и, надеюсь, исправил. </div>"
   ]
  },
  {
   "cell_type": "markdown",
   "metadata": {},
   "source": [
    "<div class=\"alert alert-success\">\n",
    "<h2> Комментарий ревьюера V2<a class=\"tocSkip\"> </h2>\n",
    "👍"
   ]
  },
  {
   "cell_type": "markdown",
   "metadata": {
    "id": "jz6a9-7HQUDd"
   },
   "source": [
    "**Выводы**\n",
    "\n",
    "Предобработка обнаружила три проблемы в данных:\n",
    "\n",
    "- нарушения в стиле заголовков,\n",
    "- пропущенные значения,\n",
    "- дубликаты — явные и неявные.\n",
    "\n",
    "Вы исправили заголовки, чтобы упростить работу с таблицей. Без дубликатов исследование станет более точным.\n",
    "\n",
    "Пропущенные значения вы заменили на `'unknown'`. Ещё предстоит увидеть, не повредят ли исследованию пропуски в колонке `genre`.\n",
    "\n",
    "Теперь можно перейти к проверке гипотез. "
   ]
  },
  {
   "cell_type": "markdown",
   "metadata": {
    "id": "WttZHXH0SqKk"
   },
   "source": [
    "## Проверка гипотез"
   ]
  },
  {
   "cell_type": "markdown",
   "metadata": {
    "id": "Im936VVi_Zcu"
   },
   "source": [
    "### Сравнение поведения пользователей двух столиц"
   ]
  },
  {
   "cell_type": "markdown",
   "metadata": {
    "id": "nwt_MuaL_Zcu"
   },
   "source": [
    "Первая гипотеза утверждает, что пользователи по-разному слушают музыку в Москве и Санкт-Петербурге. Проверьте это предположение по данным о трёх днях недели — понедельнике, среде и пятнице. Для этого:\n",
    "\n",
    "* Разделите пользователей Москвы и Санкт-Петербурга\n",
    "* Сравните, сколько треков послушала каждая группа пользователей в понедельник, среду и пятницу.\n"
   ]
  },
  {
   "cell_type": "markdown",
   "metadata": {
    "id": "8Dw_YMmT_Zcu"
   },
   "source": [
    "Для тренировки сначала выполните каждый из расчётов по отдельности. \n",
    "\n",
    "Оцените активность пользователей в каждом городе. Сгруппируйте данные по городу и посчитайте прослушивания в каждой группе.\n",
    "\n"
   ]
  },
  {
   "cell_type": "code",
   "execution_count": 23,
   "metadata": {
    "id": "0_Qs96oh_Zcu"
   },
   "outputs": [
    {
     "data": {
      "text/plain": [
       "city\n",
       "Moscow              42741\n",
       "Saint-Petersburg    18512\n",
       "Name: user_id, dtype: int64"
      ]
     },
     "execution_count": 23,
     "metadata": {},
     "output_type": "execute_result"
    }
   ],
   "source": [
    "df.groupby('city')['user_id'].count()\n"
   ]
  },
  {
   "cell_type": "markdown",
   "metadata": {
    "id": "dzli3w8o_Zcu"
   },
   "source": [
    "В Москве прослушиваний больше, чем в Петербурге. Из этого не следует, что московские пользователи чаще слушают музыку. Просто самих пользователей в Москве больше.\n",
    "\n",
    "Теперь сгруппируйте данные по дню недели и подсчитайте прослушивания в понедельник, среду и пятницу. Учтите, что в данных есть информация о прослушиваниях только за эти дни.\n"
   ]
  },
  {
   "cell_type": "code",
   "execution_count": 24,
   "metadata": {
    "id": "uZMKjiJz_Zcu"
   },
   "outputs": [
    {
     "data": {
      "text/plain": [
       "day\n",
       "Friday       21840\n",
       "Monday       21354\n",
       "Wednesday    18059\n",
       "Name: user_id, dtype: int64"
      ]
     },
     "execution_count": 24,
     "metadata": {},
     "output_type": "execute_result"
    }
   ],
   "source": [
    "df.groupby('day')['user_id'].count()\n",
    "\n"
   ]
  },
  {
   "cell_type": "markdown",
   "metadata": {},
   "source": [
    "<div class=\"alert alert-warning\">\n",
    "    <h2> Комментарий ревьюера <a class=\"tocSkip\"> </h2>\n",
    "Формально мы получили нужный результат, но уж очень неоптимально. Давай еще чуть-чуть доработаем:\n",
    "    <p>- лучше не создавать лишних датафреймов, если без этого можно обойтись. Достаточно просто посчитать groupby и сообщить о результатах (это на будущее, сейчас результаты уже написаны заранее), </p>\n",
    "    <p>- в таблице много повторяющихся значений, это замыливает глаз, сможешь оставить только одну колонку, например, user_id?</p>\n",
    "<p>- для последней (или единственной) строки ячейки display() не нужен ;) </p>"
   ]
  },
  {
   "cell_type": "markdown",
   "metadata": {},
   "source": [
    "<div class=\"alert alert-info\"> <b>Комментарий студента:Вот так? </b> </div>"
   ]
  },
  {
   "cell_type": "markdown",
   "metadata": {},
   "source": [
    "<div class=\"alert alert-success\">\n",
    "<h2> Комментарий ревьюера V2<a class=\"tocSkip\"> </h2>\n",
    "👍"
   ]
  },
  {
   "cell_type": "markdown",
   "metadata": {
    "id": "cC2tNrlL_Zcu"
   },
   "source": [
    "В среднем пользователи из двух городов менее активны по средам. Но картина может измениться, если рассмотреть каждый город в отдельности."
   ]
  },
  {
   "cell_type": "markdown",
   "metadata": {
    "id": "POzs8bGa_Zcu"
   },
   "source": [
    "Вы видели, как работает группировка по городу и по дням недели. Теперь напишите функцию, которая объединит два эти расчёта.\n",
    "\n",
    "Создайте функцию `number_tracks()`, которая посчитает прослушивания для заданного дня и города. Ей понадобятся два параметра:\n",
    "* день недели,\n",
    "* название города.\n",
    "\n",
    "В функции сохраните в переменную строки исходной таблицы, у которых значение:\n",
    "  * в колонке `day` равно параметру `day`,\n",
    "  * в колонке `city` равно параметру `city`.\n",
    "\n",
    "Для этого примените последовательную фильтрацию с логической индексацией.\n",
    "\n",
    "Затем посчитайте значения в столбце `user_id` получившейся таблицы. Результат сохраните в новую переменную. Верните эту переменную из функции."
   ]
  },
  {
   "cell_type": "code",
   "execution_count": 25,
   "metadata": {
    "id": "Nz3GdQB1_Zcu"
   },
   "outputs": [],
   "source": [
    "# <создание функции number_tracks()>\n",
    "# Объявляется функция с двумя параметрами: day, city.\n",
    "# В переменной track_list сохраняются те строки таблицы df, для которых \n",
    "# значение в столбце 'day' равно параметру day и одновременно значение\n",
    "# в столбце 'city' равно параметру city (используйте последовательную фильтрацию\n",
    "# с помощью логической индексации).\n",
    "# В переменной track_list_count сохраняется число значений столбца 'user_id',\n",
    "# рассчитанное методом count() для таблицы track_list.\n",
    "# Функция возвращает число - значение track_list_count.\n",
    "\n",
    "def number_tracks(day, city):\n",
    "    #track_list = df[df['day'] == 'day' and df['city'] == 'city']\n",
    "    track_list = df[df['day'] == day]\n",
    "    track_list = track_list[track_list['city'] == city]\n",
    "    track_list_count = track_list['user_id'].count()\n",
    "    return track_list_count\n",
    "\n",
    "\n",
    "# Функция для подсчёта прослушиваний для конкретного города и дня.\n",
    "# С помощью последовательной фильтрации с логической индексацией она \n",
    "# сначала получит из исходной таблицы строки с нужным днём,\n",
    "# затем из результата отфильтрует строки с нужным городом,\n",
    "# методом count() посчитает количество значений в колонке user_id. \n",
    "# Это количество функция вернёт в качестве результата"
   ]
  },
  {
   "cell_type": "markdown",
   "metadata": {
    "id": "ytf7xFrFJQ2r"
   },
   "source": [
    "Вызовите `number_tracks()` шесть раз, меняя значение параметров — так, чтобы получить данные для каждого города в каждый из трёх дней."
   ]
  },
  {
   "cell_type": "code",
   "execution_count": 26,
   "metadata": {
    "id": "rJcRATNQ_Zcu"
   },
   "outputs": [
    {
     "data": {
      "text/plain": [
       "15740"
      ]
     },
     "execution_count": 26,
     "metadata": {},
     "output_type": "execute_result"
    }
   ],
   "source": [
    "# количество прослушиваний в Москве по понедельникам\n",
    "number_tracks('Monday', 'Moscow')\n"
   ]
  },
  {
   "cell_type": "code",
   "execution_count": 27,
   "metadata": {
    "id": "hq_ncZ5T_Zcu"
   },
   "outputs": [
    {
     "data": {
      "text/plain": [
       "5614"
      ]
     },
     "execution_count": 27,
     "metadata": {},
     "output_type": "execute_result"
    }
   ],
   "source": [
    "# количество прослушиваний в Санкт-Петербурге по понедельникам\n",
    "number_tracks('Monday', 'Saint-Petersburg')"
   ]
  },
  {
   "cell_type": "code",
   "execution_count": 28,
   "metadata": {
    "id": "_NTy2VPU_Zcu"
   },
   "outputs": [
    {
     "data": {
      "text/plain": [
       "11056"
      ]
     },
     "execution_count": 28,
     "metadata": {},
     "output_type": "execute_result"
    }
   ],
   "source": [
    "# количество прослушиваний в Москве по средам\n",
    "number_tracks('Wednesday', 'Moscow')"
   ]
  },
  {
   "cell_type": "code",
   "execution_count": 29,
   "metadata": {
    "id": "j2y3TAwo_Zcu"
   },
   "outputs": [
    {
     "data": {
      "text/plain": [
       "7003"
      ]
     },
     "execution_count": 29,
     "metadata": {},
     "output_type": "execute_result"
    }
   ],
   "source": [
    "# количество прослушиваний в Санкт-Петербурге по средам\n",
    "number_tracks('Wednesday', 'Saint-Petersburg')"
   ]
  },
  {
   "cell_type": "code",
   "execution_count": 30,
   "metadata": {
    "id": "vYDw5u_K_Zcu"
   },
   "outputs": [
    {
     "data": {
      "text/plain": [
       "15945"
      ]
     },
     "execution_count": 30,
     "metadata": {},
     "output_type": "execute_result"
    }
   ],
   "source": [
    "# количество прослушиваний в Москве по пятницам\n",
    "number_tracks('Friday', 'Moscow')"
   ]
  },
  {
   "cell_type": "code",
   "execution_count": 31,
   "metadata": {
    "id": "8_yzFtW3_Zcu"
   },
   "outputs": [
    {
     "data": {
      "text/plain": [
       "5895"
      ]
     },
     "execution_count": 31,
     "metadata": {},
     "output_type": "execute_result"
    }
   ],
   "source": [
    "# количество прослушиваний в Санкт-Петербурге по пятницам\n",
    "number_tracks('Friday', 'Saint-Petersburg')"
   ]
  },
  {
   "cell_type": "markdown",
   "metadata": {},
   "source": [
    "<div class=\"alert alert-success\">\n",
    "<h2> Комментарий ревьюера <a class=\"tocSkip\"> </h2>\n",
    "Функция написана верно, данные по каждому городу-дню мы тоже получили корректные!"
   ]
  },
  {
   "cell_type": "markdown",
   "metadata": {
    "id": "7QXffbO-_Zcu"
   },
   "source": [
    "Создайте c помощью конструктора `pd.DataFrame` таблицу, где\n",
    "* названия колонок — `['city', 'monday', 'wednesday', 'friday']`;\n",
    "* данные — результаты, которые вы получили с помощью `number_tracks`."
   ]
  },
  {
   "cell_type": "code",
   "execution_count": 32,
   "metadata": {
    "id": "APAcLpOr_Zcu"
   },
   "outputs": [
    {
     "data": {
      "text/html": [
       "<div>\n",
       "<style scoped>\n",
       "    .dataframe tbody tr th:only-of-type {\n",
       "        vertical-align: middle;\n",
       "    }\n",
       "\n",
       "    .dataframe tbody tr th {\n",
       "        vertical-align: top;\n",
       "    }\n",
       "\n",
       "    .dataframe thead th {\n",
       "        text-align: right;\n",
       "    }\n",
       "</style>\n",
       "<table border=\"1\" class=\"dataframe\">\n",
       "  <thead>\n",
       "    <tr style=\"text-align: right;\">\n",
       "      <th></th>\n",
       "      <th>city</th>\n",
       "      <th>monday</th>\n",
       "      <th>wednesday</th>\n",
       "      <th>friday</th>\n",
       "    </tr>\n",
       "  </thead>\n",
       "  <tbody>\n",
       "    <tr>\n",
       "      <th>0</th>\n",
       "      <td>Moscow</td>\n",
       "      <td>15740</td>\n",
       "      <td>11056</td>\n",
       "      <td>15945</td>\n",
       "    </tr>\n",
       "    <tr>\n",
       "      <th>1</th>\n",
       "      <td>Saint-Petersburg</td>\n",
       "      <td>5614</td>\n",
       "      <td>7003</td>\n",
       "      <td>5895</td>\n",
       "    </tr>\n",
       "  </tbody>\n",
       "</table>\n",
       "</div>"
      ],
      "text/plain": [
       "               city  monday  wednesday  friday\n",
       "0            Moscow   15740      11056   15945\n",
       "1  Saint-Petersburg    5614       7003    5895"
      ]
     },
     "execution_count": 32,
     "metadata": {},
     "output_type": "execute_result"
    }
   ],
   "source": [
    "# Таблица с результатами\n",
    "data = [['Moscow', 15740, 11056, 15945],\n",
    "        ['Saint-Petersburg', 5614, 7003, 5895]]\n",
    "columns = ['city', 'monday', 'wednesday', 'friday']\n",
    "pd.DataFrame(data=data, columns=columns)"
   ]
  },
  {
   "cell_type": "markdown",
   "metadata": {},
   "source": [
    "<div class=\"alert alert-success\">\n",
    "<h2> Комментарий ревьюера <a class=\"tocSkip\"> </h2>\n",
    "Все отлично получилось!"
   ]
  },
  {
   "cell_type": "markdown",
   "metadata": {
    "id": "-EgPIHYu_Zcu"
   },
   "source": [
    "**Выводы**\n",
    "\n",
    "Данные показывают разницу поведения пользователей:\n",
    "\n",
    "- В Москве пик прослушиваний приходится на понедельник и пятницу, а в среду заметен спад.\n",
    "- В Петербурге, наоборот, больше слушают музыку по средам. Активность в понедельник и пятницу здесь почти в равной мере уступает среде.\n",
    "\n",
    "Значит, данные говорят в пользу первой гипотезы."
   ]
  },
  {
   "cell_type": "markdown",
   "metadata": {
    "id": "atZAxtq4_Zcu"
   },
   "source": [
    "### Музыка в начале и в конце недели"
   ]
  },
  {
   "cell_type": "markdown",
   "metadata": {
    "id": "eXrQqXFH_Zcu"
   },
   "source": [
    "Согласно второй гипотезе, утром в понедельник в Москве преобладают одни жанры, а в Петербурге — другие. Так же и вечером пятницы преобладают разные жанры — в зависимости от города."
   ]
  },
  {
   "cell_type": "markdown",
   "metadata": {
    "id": "S8UcW6Hw_Zcu"
   },
   "source": [
    "Сохраните таблицы с данными в две переменные:\n",
    "* по Москве — в `moscow_general`;\n",
    "* по Санкт-Петербургу — в `spb_general`."
   ]
  },
  {
   "cell_type": "code",
   "execution_count": 33,
   "metadata": {
    "id": "qeaFfM_P_Zcu"
   },
   "outputs": [
    {
     "data": {
      "text/html": [
       "<div>\n",
       "<style scoped>\n",
       "    .dataframe tbody tr th:only-of-type {\n",
       "        vertical-align: middle;\n",
       "    }\n",
       "\n",
       "    .dataframe tbody tr th {\n",
       "        vertical-align: top;\n",
       "    }\n",
       "\n",
       "    .dataframe thead th {\n",
       "        text-align: right;\n",
       "    }\n",
       "</style>\n",
       "<table border=\"1\" class=\"dataframe\">\n",
       "  <thead>\n",
       "    <tr style=\"text-align: right;\">\n",
       "      <th></th>\n",
       "      <th>user_id</th>\n",
       "      <th>track</th>\n",
       "      <th>artist</th>\n",
       "      <th>genre</th>\n",
       "      <th>city</th>\n",
       "      <th>time</th>\n",
       "      <th>day</th>\n",
       "    </tr>\n",
       "  </thead>\n",
       "  <tbody>\n",
       "    <tr>\n",
       "      <th>1</th>\n",
       "      <td>55204538</td>\n",
       "      <td>Delayed Because of Accident</td>\n",
       "      <td>Andreas Rönnberg</td>\n",
       "      <td>rock</td>\n",
       "      <td>Moscow</td>\n",
       "      <td>14:07:09</td>\n",
       "      <td>Friday</td>\n",
       "    </tr>\n",
       "    <tr>\n",
       "      <th>4</th>\n",
       "      <td>E2DC1FAE</td>\n",
       "      <td>Soul People</td>\n",
       "      <td>Space Echo</td>\n",
       "      <td>dance</td>\n",
       "      <td>Moscow</td>\n",
       "      <td>08:34:34</td>\n",
       "      <td>Monday</td>\n",
       "    </tr>\n",
       "    <tr>\n",
       "      <th>6</th>\n",
       "      <td>4CB90AA5</td>\n",
       "      <td>True</td>\n",
       "      <td>Roman Messer</td>\n",
       "      <td>dance</td>\n",
       "      <td>Moscow</td>\n",
       "      <td>13:00:07</td>\n",
       "      <td>Wednesday</td>\n",
       "    </tr>\n",
       "    <tr>\n",
       "      <th>7</th>\n",
       "      <td>F03E1C1F</td>\n",
       "      <td>Feeling This Way</td>\n",
       "      <td>Polina Griffith</td>\n",
       "      <td>dance</td>\n",
       "      <td>Moscow</td>\n",
       "      <td>20:47:49</td>\n",
       "      <td>Wednesday</td>\n",
       "    </tr>\n",
       "    <tr>\n",
       "      <th>8</th>\n",
       "      <td>8FA1D3BE</td>\n",
       "      <td>И вновь продолжается бой</td>\n",
       "      <td>unknown</td>\n",
       "      <td>ruspop</td>\n",
       "      <td>Moscow</td>\n",
       "      <td>09:17:40</td>\n",
       "      <td>Friday</td>\n",
       "    </tr>\n",
       "  </tbody>\n",
       "</table>\n",
       "</div>"
      ],
      "text/plain": [
       "    user_id                        track            artist   genre    city  \\\n",
       "1  55204538  Delayed Because of Accident  Andreas Rönnberg    rock  Moscow   \n",
       "4  E2DC1FAE                  Soul People        Space Echo   dance  Moscow   \n",
       "6  4CB90AA5                         True      Roman Messer   dance  Moscow   \n",
       "7  F03E1C1F             Feeling This Way   Polina Griffith   dance  Moscow   \n",
       "8  8FA1D3BE     И вновь продолжается бой           unknown  ruspop  Moscow   \n",
       "\n",
       "       time        day  \n",
       "1  14:07:09     Friday  \n",
       "4  08:34:34     Monday  \n",
       "6  13:00:07  Wednesday  \n",
       "7  20:47:49  Wednesday  \n",
       "8  09:17:40     Friday  "
      ]
     },
     "execution_count": 33,
     "metadata": {},
     "output_type": "execute_result"
    }
   ],
   "source": [
    "# получение таблицы moscow_general из тех строк таблицы df, \n",
    "# для которых значение в столбце 'city' равно 'Moscow'\n",
    "moscow_general = df[df['city'] == 'Moscow']\n",
    "moscow_general.head()"
   ]
  },
  {
   "cell_type": "code",
   "execution_count": 34,
   "metadata": {
    "id": "ORaVRKto_Zcu"
   },
   "outputs": [
    {
     "data": {
      "text/html": [
       "<div>\n",
       "<style scoped>\n",
       "    .dataframe tbody tr th:only-of-type {\n",
       "        vertical-align: middle;\n",
       "    }\n",
       "\n",
       "    .dataframe tbody tr th {\n",
       "        vertical-align: top;\n",
       "    }\n",
       "\n",
       "    .dataframe thead th {\n",
       "        text-align: right;\n",
       "    }\n",
       "</style>\n",
       "<table border=\"1\" class=\"dataframe\">\n",
       "  <thead>\n",
       "    <tr style=\"text-align: right;\">\n",
       "      <th></th>\n",
       "      <th>user_id</th>\n",
       "      <th>track</th>\n",
       "      <th>artist</th>\n",
       "      <th>genre</th>\n",
       "      <th>city</th>\n",
       "      <th>time</th>\n",
       "      <th>day</th>\n",
       "    </tr>\n",
       "  </thead>\n",
       "  <tbody>\n",
       "    <tr>\n",
       "      <th>0</th>\n",
       "      <td>FFB692EC</td>\n",
       "      <td>Kamigata To Boots</td>\n",
       "      <td>The Mass Missile</td>\n",
       "      <td>rock</td>\n",
       "      <td>Saint-Petersburg</td>\n",
       "      <td>20:28:33</td>\n",
       "      <td>Wednesday</td>\n",
       "    </tr>\n",
       "    <tr>\n",
       "      <th>2</th>\n",
       "      <td>20EC38</td>\n",
       "      <td>Funiculì funiculà</td>\n",
       "      <td>Mario Lanza</td>\n",
       "      <td>pop</td>\n",
       "      <td>Saint-Petersburg</td>\n",
       "      <td>20:58:07</td>\n",
       "      <td>Wednesday</td>\n",
       "    </tr>\n",
       "    <tr>\n",
       "      <th>3</th>\n",
       "      <td>A3DD03C9</td>\n",
       "      <td>Dragons in the Sunset</td>\n",
       "      <td>Fire + Ice</td>\n",
       "      <td>folk</td>\n",
       "      <td>Saint-Petersburg</td>\n",
       "      <td>08:37:09</td>\n",
       "      <td>Monday</td>\n",
       "    </tr>\n",
       "    <tr>\n",
       "      <th>5</th>\n",
       "      <td>842029A1</td>\n",
       "      <td>Преданная</td>\n",
       "      <td>IMPERVTOR</td>\n",
       "      <td>rusrap</td>\n",
       "      <td>Saint-Petersburg</td>\n",
       "      <td>13:09:41</td>\n",
       "      <td>Friday</td>\n",
       "    </tr>\n",
       "    <tr>\n",
       "      <th>9</th>\n",
       "      <td>E772D5C0</td>\n",
       "      <td>Pessimist</td>\n",
       "      <td>unknown</td>\n",
       "      <td>dance</td>\n",
       "      <td>Saint-Petersburg</td>\n",
       "      <td>21:20:49</td>\n",
       "      <td>Wednesday</td>\n",
       "    </tr>\n",
       "  </tbody>\n",
       "</table>\n",
       "</div>"
      ],
      "text/plain": [
       "    user_id                  track            artist   genre  \\\n",
       "0  FFB692EC      Kamigata To Boots  The Mass Missile    rock   \n",
       "2    20EC38      Funiculì funiculà       Mario Lanza     pop   \n",
       "3  A3DD03C9  Dragons in the Sunset        Fire + Ice    folk   \n",
       "5  842029A1              Преданная         IMPERVTOR  rusrap   \n",
       "9  E772D5C0              Pessimist           unknown   dance   \n",
       "\n",
       "               city      time        day  \n",
       "0  Saint-Petersburg  20:28:33  Wednesday  \n",
       "2  Saint-Petersburg  20:58:07  Wednesday  \n",
       "3  Saint-Petersburg  08:37:09     Monday  \n",
       "5  Saint-Petersburg  13:09:41     Friday  \n",
       "9  Saint-Petersburg  21:20:49  Wednesday  "
      ]
     },
     "execution_count": 34,
     "metadata": {},
     "output_type": "execute_result"
    }
   ],
   "source": [
    "# получение таблицы spb_general из тех строк таблицы df,\n",
    "# для которых значение в столбце 'city' равно 'Saint-Petersburg'\n",
    "spb_general = df[df['city'] == 'Saint-Petersburg']\n",
    "spb_general.head()"
   ]
  },
  {
   "cell_type": "markdown",
   "metadata": {},
   "source": [
    "<div class=\"alert alert-success\">\n",
    "<h2> Комментарий ревьюера <a class=\"tocSkip\"> </h2>\n",
    "Правильно используется логическая индексация. И замечательно, что проверяешь себя!"
   ]
  },
  {
   "cell_type": "markdown",
   "metadata": {
    "id": "MEJV-CX2_Zcu"
   },
   "source": [
    "Создайте функцию `genre_weekday()` с четырьмя параметрами:\n",
    "* таблица (датафрейм) с данными,\n",
    "* день недели,\n",
    "* начальная временная метка в формате 'hh:mm', \n",
    "* последняя временная метка в формате 'hh:mm'.\n",
    "\n",
    "Функция должна вернуть информацию о топ-10 жанров тех треков, которые прослушивали в указанный день, в промежутке между двумя отметками времени."
   ]
  },
  {
   "cell_type": "code",
   "execution_count": 35,
   "metadata": {
    "id": "laJT9BYl_Zcu"
   },
   "outputs": [],
   "source": [
    "# Объявление функции genre_weekday() с параметрами table, day, time1, time2,\n",
    "# которая возвращает информацию о самых популярных жанрах в указанный день в\n",
    "# заданное время:\n",
    "# 1) в переменную genre_df сохраняются те строки переданного датафрейма table, для\n",
    "#    которых одновременно:\n",
    "#    - значение в столбце day равно значению аргумента day\n",
    "#    - значение в столбце time больше значения аргумента time1\n",
    "#    - значение в столбце time меньше значения аргумента time2\n",
    "#    Используйте последовательную фильтрацию с помощью логической индексации.\n",
    "# 2) сгруппировать датафрейм genre_df по столбцу genre, взять один из его\n",
    "#    столбцов и посчитать методом count() количество записей для каждого из\n",
    "#    присутствующих жанров, получившийся Series записать в переменную\n",
    "#    genre_df_count\n",
    "# 3) отсортировать genre_df_count по убыванию встречаемости и сохранить\n",
    "#    в переменную genre_df_sorted\n",
    "# 4) вернуть Series из 10 первых значений genre_df_sorted, это будут топ-10\n",
    "#    популярных жанров (в указанный день, в заданное время)\n",
    "\n",
    "\n",
    "def genre_weekday(table, day, time1, time2):\n",
    "    genre_df = table[table['day'] == day]\n",
    "    genre_df = genre_df[genre_df['time'] > time1]\n",
    "    genre_df = genre_df[genre_df['time'] < time2]\n",
    "    genre_df_count = genre_df.groupby('genre')['genre'].count()\n",
    "    genre_df_sorted = genre_df_count.sort_values(ascending=False)\n",
    "    return genre_df_sorted[:10]"
   ]
  },
  {
   "cell_type": "markdown",
   "metadata": {},
   "source": [
    "<div class=\"alert alert-success\">\n",
    "<h2> Комментарий ревьюера <a class=\"tocSkip\"> </h2>\n",
    "Функция получилась! Как вариант, порекомендую в качестве вывода использовать срезы - genre_df_sorted[:10]."
   ]
  },
  {
   "cell_type": "markdown",
   "metadata": {
    "id": "la2s2_PF_Zcu"
   },
   "source": [
    "Cравните результаты функции `genre_weekday()` для Москвы и Санкт-Петербурга в понедельник утром (с 7:00 до 11:00) и в пятницу вечером (с 17:00 до 23:00):"
   ]
  },
  {
   "cell_type": "code",
   "execution_count": 36,
   "metadata": {
    "id": "yz7itPUQ_Zcu"
   },
   "outputs": [
    {
     "data": {
      "text/plain": [
       "genre\n",
       "pop            781\n",
       "dance          549\n",
       "electronic     480\n",
       "rock           474\n",
       "hiphop         286\n",
       "ruspop         186\n",
       "world          181\n",
       "rusrap         175\n",
       "alternative    164\n",
       "unknown        161\n",
       "Name: genre, dtype: int64"
      ]
     },
     "execution_count": 36,
     "metadata": {},
     "output_type": "execute_result"
    }
   ],
   "source": [
    "# вызов функции для утра понедельника в Москве (вместо df — таблица moscow_general)\n",
    "# объекты, хранящие время, являются строками и сравниваются как строки\n",
    "# пример вызова: genre_weekday(moscow_general, 'Monday', '07:00', '11:00')\n",
    "\n",
    "genre_weekday(moscow_general, 'Monday', '07:00', '11:00')\n"
   ]
  },
  {
   "cell_type": "code",
   "execution_count": 37,
   "metadata": {
    "id": "kwUcHPdy_Zcu"
   },
   "outputs": [
    {
     "data": {
      "text/plain": [
       "genre\n",
       "pop            218\n",
       "dance          182\n",
       "rock           162\n",
       "electronic     147\n",
       "hiphop          80\n",
       "ruspop          64\n",
       "alternative     58\n",
       "rusrap          55\n",
       "jazz            44\n",
       "classical       40\n",
       "Name: genre, dtype: int64"
      ]
     },
     "execution_count": 37,
     "metadata": {},
     "output_type": "execute_result"
    }
   ],
   "source": [
    "# вызов функции для утра понедельника в Петербурге (вместо df — таблица spb_general)\n",
    "genre_weekday(spb_general, 'Monday', '07:00', '11:00')"
   ]
  },
  {
   "cell_type": "code",
   "execution_count": 38,
   "metadata": {
    "id": "EzXVRE1o_Zcu"
   },
   "outputs": [
    {
     "data": {
      "text/plain": [
       "genre\n",
       "pop            713\n",
       "rock           517\n",
       "dance          495\n",
       "electronic     482\n",
       "hiphop         273\n",
       "world          208\n",
       "ruspop         170\n",
       "alternative    163\n",
       "classical      163\n",
       "rusrap         142\n",
       "Name: genre, dtype: int64"
      ]
     },
     "execution_count": 38,
     "metadata": {},
     "output_type": "execute_result"
    }
   ],
   "source": [
    "# вызов функции для вечера пятницы в Москве\n",
    "genre_weekday(moscow_general, 'Friday', '17:00', '23:00')"
   ]
  },
  {
   "cell_type": "code",
   "execution_count": 39,
   "metadata": {
    "id": "JZaEKu5v_Zcu"
   },
   "outputs": [
    {
     "data": {
      "text/plain": [
       "genre\n",
       "pop            256\n",
       "electronic     216\n",
       "rock           216\n",
       "dance          210\n",
       "hiphop          97\n",
       "alternative     63\n",
       "jazz            61\n",
       "classical       60\n",
       "rusrap          59\n",
       "world           54\n",
       "Name: genre, dtype: int64"
      ]
     },
     "execution_count": 39,
     "metadata": {},
     "output_type": "execute_result"
    }
   ],
   "source": [
    "# вызов функции для вечера пятницы в Петербурге\n",
    "genre_weekday(spb_general, 'Friday', '17:00', '23:00')"
   ]
  },
  {
   "cell_type": "markdown",
   "metadata": {
    "id": "wrCe4MNX_Zcu"
   },
   "source": [
    "**Выводы**\n",
    "\n",
    "Если сравнить топ-10 жанров в понедельник утром, можно сделать такие выводы:\n",
    "\n",
    "1. В Москве и Петербурге слушают похожую музыку. Единственное отличие — в московский рейтинг вошёл жанр “world”, а в петербургский — джаз и классика.\n",
    "\n",
    "2. В Москве пропущенных значений оказалось так много, что значение `'unknown'` заняло десятое место среди самых популярных жанров. Значит, пропущенные значения занимают существенную долю в данных и угрожают достоверности исследования.\n",
    "\n",
    "Вечер пятницы не меняет эту картину. Некоторые жанры поднимаются немного выше, другие спускаются, но в целом топ-10 остаётся тем же самым.\n",
    "\n",
    "Таким образом, вторая гипотеза подтвердилась лишь частично:\n",
    "* Пользователи слушают похожую музыку в начале недели и в конце.\n",
    "* Разница между Москвой и Петербургом не слишком выражена. В Москве чаще слушают русскую популярную музыку, в Петербурге — джаз.\n",
    "\n",
    "Однако пропуски в данных ставят под сомнение этот результат. В Москве их так много, что рейтинг топ-10 мог бы выглядеть иначе, если бы не утерянные  данные о жанрах."
   ]
  },
  {
   "cell_type": "markdown",
   "metadata": {},
   "source": [
    "<div class=\"alert alert-success\">\n",
    "<h2> Комментарий ревьюера <a class=\"tocSkip\"> </h2>\n",
    "Все отлично получилось! И опять попрошу обратить внимание на промежуточный вывод: не все умеют читать код (сюрприз?), поэтому аналитик должен уметь не только написать код, но и описать увиденное."
   ]
  },
  {
   "cell_type": "markdown",
   "metadata": {
    "id": "JolODAqr_Zcu"
   },
   "source": [
    "### Жанровые предпочтения в Москве и Петербурге\n",
    "\n",
    "Гипотеза: Петербург — столица рэпа, музыку этого жанра там слушают чаще, чем в Москве.  А Москва — город контрастов, в котором, тем не менее, преобладает поп-музыка."
   ]
  },
  {
   "cell_type": "markdown",
   "metadata": {
    "id": "DlegSvaT_Zcu"
   },
   "source": [
    "Сгруппируйте таблицу `moscow_general` по жанру и посчитайте прослушивания треков каждого жанра методом `count()`. Затем отсортируйте результат в порядке убывания и сохраните его в таблице `moscow_genres`."
   ]
  },
  {
   "cell_type": "code",
   "execution_count": 40,
   "metadata": {
    "id": "r19lIPke_Zcu"
   },
   "outputs": [],
   "source": [
    "# одной строкой: группировка таблицы moscow_general по столбцу 'genre', \n",
    "# подсчёт числа значений 'genre' в этой группировке методом count(), \n",
    "# сортировка получившегося Series в порядке убывания и сохранение в moscow_genres\n",
    "moscow_genres = (moscow_general.groupby('genre')['genre'].count()).sort_values(ascending=False)"
   ]
  },
  {
   "cell_type": "markdown",
   "metadata": {
    "id": "6kMuomxTiIr8"
   },
   "source": [
    "Выведите на экран первые десять строк `moscow_genres`:"
   ]
  },
  {
   "cell_type": "code",
   "execution_count": 41,
   "metadata": {
    "id": "WhCSooF8_Zcv"
   },
   "outputs": [
    {
     "data": {
      "text/plain": [
       "genre\n",
       "pop            5892\n",
       "dance          4435\n",
       "rock           3965\n",
       "electronic     3786\n",
       "hiphop         2096\n",
       "classical      1616\n",
       "world          1432\n",
       "alternative    1379\n",
       "ruspop         1372\n",
       "rusrap         1161\n",
       "Name: genre, dtype: int64"
      ]
     },
     "execution_count": 41,
     "metadata": {},
     "output_type": "execute_result"
    }
   ],
   "source": [
    "# просмотр первых 10 строк moscow_genres\n",
    "moscow_genres.head(10)\n"
   ]
  },
  {
   "cell_type": "markdown",
   "metadata": {
    "id": "cnPG2vnN_Zcv"
   },
   "source": [
    "Теперь повторите то же и для Петербурга.\n",
    "\n",
    "Сгруппируйте таблицу `spb_general` по жанру. Посчитайте прослушивания треков каждого жанра. Результат отсортируйте в порядке убывания и сохраните в таблице `spb_genres`:\n"
   ]
  },
  {
   "cell_type": "code",
   "execution_count": 42,
   "metadata": {
    "id": "gluLIpE7_Zcv"
   },
   "outputs": [],
   "source": [
    "# одной строкой: группировка таблицы spb_general по столбцу 'genre', \n",
    "# подсчёт числа значений 'genre' в этой группировке методом count(), \n",
    "# сортировка получившегося Series в порядке убывания и сохранение в spb_genres\n",
    "spb_genres = (spb_general.groupby('genre')['genre'].count()).sort_values(ascending=False)"
   ]
  },
  {
   "cell_type": "markdown",
   "metadata": {
    "id": "5Doha_ODgyQ8"
   },
   "source": [
    "Выведите на экран первые десять строк `spb_genres`:"
   ]
  },
  {
   "cell_type": "code",
   "execution_count": 43,
   "metadata": {
    "id": "uaGJHjVU_Zcv"
   },
   "outputs": [
    {
     "data": {
      "text/plain": [
       "genre\n",
       "pop            2431\n",
       "dance          1932\n",
       "rock           1879\n",
       "electronic     1736\n",
       "hiphop          960\n",
       "alternative     649\n",
       "classical       646\n",
       "rusrap          564\n",
       "ruspop          538\n",
       "world           515\n",
       "Name: genre, dtype: int64"
      ]
     },
     "execution_count": 43,
     "metadata": {},
     "output_type": "execute_result"
    }
   ],
   "source": [
    "# просмотр первых 10 строк spb_genres\n",
    "spb_genres.head(10)"
   ]
  },
  {
   "cell_type": "markdown",
   "metadata": {},
   "source": [
    "<div class=\"alert alert-success\">\n",
    "<h2> Комментарий ревьюера <a class=\"tocSkip\"> </h2>\n",
    "Все отлично получилось!"
   ]
  },
  {
   "cell_type": "markdown",
   "metadata": {
    "id": "RY51YJYu_Zcv"
   },
   "source": [
    "**Выводы**"
   ]
  },
  {
   "cell_type": "markdown",
   "metadata": {
    "id": "nVhnJEm__Zcv"
   },
   "source": [
    "Гипотеза частично подтвердилась:\n",
    "* Поп-музыка — самый популярный жанр в Москве, как и предполагала гипотеза. Более того, в топ-10 жанров встречается близкий жанр — русская популярная музыка.\n",
    "* Вопреки ожиданиям, рэп одинаково популярен в Москве и Петербурге. \n"
   ]
  },
  {
   "cell_type": "markdown",
   "metadata": {
    "id": "ykKQ0N65_Zcv"
   },
   "source": [
    "## Итоги исследования"
   ]
  },
  {
   "cell_type": "markdown",
   "metadata": {
    "id": "tjUwbHb3_Zcv"
   },
   "source": [
    "Вы проверили три гипотезы и установили:\n",
    "\n",
    "1. День недели по-разному влияет на активность пользователей в Москве и Петербурге. \n",
    "\n",
    "Первая гипотеза полностью подтвердилась.\n",
    "\n",
    "2. Музыкальные предпочтения не сильно меняются в течение недели — будь то Москва или Петербург. Небольшие различия заметны в начале недели, по понедельникам:\n",
    "* в Москве слушают музыку жанра “world”,\n",
    "* в Петербурге — джаз и классику.\n",
    "\n",
    "Таким образом, вторая гипотеза подтвердилась лишь отчасти. Этот результат мог оказаться иным, если бы не пропуски в данных.\n",
    "\n",
    "3. Во вкусах пользователей Москвы и Петербурга больше общего чем различий. Вопреки ожиданиям, предпочтения жанров в Петербурге напоминают московские.\n",
    "\n",
    "Третья гипотеза не подтвердилась. Если различия в предпочтениях и существуют, на основной массе пользователей они незаметны.\n",
    "\n",
    "**На практике исследования содержат проверки статистических гипотез.**\n",
    "Из данных одного сервиса не всегда можно сделать вывод о всех жителях города.\n",
    "Проверки статистических гипотез покажут, насколько они достоверны, исходя из имеющихся данных. \n",
    "С методами проверок гипотез вы ещё познакомитесь в следующих темах."
   ]
  },
  {
   "cell_type": "markdown",
   "metadata": {},
   "source": [
    "<div class=\"alert alert-success\">\n",
    "<h2> Комментарий ревьюера <a class=\"tocSkip\"> </h2>\n",
    "Итоги исследования (выводы и рекомендации) - это самая главная часть работы аналитика. Сейчас выводы написаны командой Практикума, но в следующих проекта - это на твоих плечах!"
   ]
  }
 ],
 "metadata": {
  "ExecuteTimeLog": [
   {
    "duration": 47,
    "start_time": "2022-03-31T14:06:39.782Z"
   },
   {
    "duration": 354,
    "start_time": "2022-03-31T14:06:41.998Z"
   },
   {
    "duration": 27,
    "start_time": "2022-03-31T14:06:42.861Z"
   },
   {
    "duration": 7,
    "start_time": "2022-03-31T14:06:49.782Z"
   },
   {
    "duration": 3,
    "start_time": "2022-03-31T14:06:58.821Z"
   },
   {
    "duration": 8,
    "start_time": "2022-03-31T14:07:01.053Z"
   },
   {
    "duration": 149,
    "start_time": "2022-03-31T14:07:18.829Z"
   },
   {
    "duration": 16,
    "start_time": "2022-03-31T14:07:22.558Z"
   },
   {
    "duration": 27,
    "start_time": "2022-03-31T14:07:34.949Z"
   },
   {
    "duration": 7,
    "start_time": "2022-03-31T14:25:06.843Z"
   },
   {
    "duration": 4,
    "start_time": "2022-03-31T14:28:41.184Z"
   },
   {
    "duration": 372,
    "start_time": "2022-04-07T08:03:38.280Z"
   },
   {
    "duration": 129,
    "start_time": "2022-04-07T08:03:38.654Z"
   },
   {
    "duration": 0,
    "start_time": "2022-04-07T08:03:38.785Z"
   },
   {
    "duration": 0,
    "start_time": "2022-04-07T08:03:38.786Z"
   },
   {
    "duration": 0,
    "start_time": "2022-04-07T08:03:38.788Z"
   },
   {
    "duration": 0,
    "start_time": "2022-04-07T08:03:38.788Z"
   },
   {
    "duration": 0,
    "start_time": "2022-04-07T08:03:38.789Z"
   },
   {
    "duration": 0,
    "start_time": "2022-04-07T08:03:38.790Z"
   },
   {
    "duration": 0,
    "start_time": "2022-04-07T08:03:38.791Z"
   },
   {
    "duration": 0,
    "start_time": "2022-04-07T08:03:38.792Z"
   },
   {
    "duration": 0,
    "start_time": "2022-04-07T08:03:38.793Z"
   },
   {
    "duration": 0,
    "start_time": "2022-04-07T08:03:38.794Z"
   },
   {
    "duration": 0,
    "start_time": "2022-04-07T08:03:38.795Z"
   },
   {
    "duration": 0,
    "start_time": "2022-04-07T08:03:38.796Z"
   },
   {
    "duration": 0,
    "start_time": "2022-04-07T08:03:38.797Z"
   },
   {
    "duration": 0,
    "start_time": "2022-04-07T08:03:38.798Z"
   },
   {
    "duration": 0,
    "start_time": "2022-04-07T08:03:38.798Z"
   },
   {
    "duration": 0,
    "start_time": "2022-04-07T08:03:38.799Z"
   },
   {
    "duration": 0,
    "start_time": "2022-04-07T08:03:38.800Z"
   },
   {
    "duration": 0,
    "start_time": "2022-04-07T08:03:38.801Z"
   },
   {
    "duration": 0,
    "start_time": "2022-04-07T08:03:38.802Z"
   },
   {
    "duration": 0,
    "start_time": "2022-04-07T08:03:38.804Z"
   },
   {
    "duration": 0,
    "start_time": "2022-04-07T08:03:38.804Z"
   },
   {
    "duration": 0,
    "start_time": "2022-04-07T08:03:38.805Z"
   },
   {
    "duration": 0,
    "start_time": "2022-04-07T08:03:38.806Z"
   },
   {
    "duration": 0,
    "start_time": "2022-04-07T08:03:38.807Z"
   },
   {
    "duration": 0,
    "start_time": "2022-04-07T08:03:38.808Z"
   },
   {
    "duration": 0,
    "start_time": "2022-04-07T08:03:38.809Z"
   },
   {
    "duration": 0,
    "start_time": "2022-04-07T08:03:38.810Z"
   },
   {
    "duration": 0,
    "start_time": "2022-04-07T08:03:38.811Z"
   },
   {
    "duration": 0,
    "start_time": "2022-04-07T08:03:38.812Z"
   },
   {
    "duration": 0,
    "start_time": "2022-04-07T08:03:38.813Z"
   },
   {
    "duration": 0,
    "start_time": "2022-04-07T08:03:38.814Z"
   },
   {
    "duration": 0,
    "start_time": "2022-04-07T08:03:38.815Z"
   },
   {
    "duration": 0,
    "start_time": "2022-04-07T08:03:38.815Z"
   },
   {
    "duration": 0,
    "start_time": "2022-04-07T08:03:38.816Z"
   },
   {
    "duration": 0,
    "start_time": "2022-04-07T08:03:38.863Z"
   },
   {
    "duration": 0,
    "start_time": "2022-04-07T08:03:38.864Z"
   },
   {
    "duration": 0,
    "start_time": "2022-04-07T08:03:38.865Z"
   },
   {
    "duration": 361,
    "start_time": "2022-04-07T08:09:20.386Z"
   },
   {
    "duration": 2,
    "start_time": "2022-04-07T08:09:20.749Z"
   },
   {
    "duration": 155,
    "start_time": "2022-04-07T08:09:20.752Z"
   },
   {
    "duration": 16,
    "start_time": "2022-04-07T08:09:20.909Z"
   },
   {
    "duration": 40,
    "start_time": "2022-04-07T08:09:20.927Z"
   },
   {
    "duration": 9,
    "start_time": "2022-04-07T08:09:20.968Z"
   },
   {
    "duration": 13,
    "start_time": "2022-04-07T08:09:20.979Z"
   },
   {
    "duration": 6,
    "start_time": "2022-04-07T08:09:20.993Z"
   },
   {
    "duration": 31,
    "start_time": "2022-04-07T08:09:21.000Z"
   },
   {
    "duration": 35,
    "start_time": "2022-04-07T08:09:21.035Z"
   },
   {
    "duration": 26,
    "start_time": "2022-04-07T08:09:21.072Z"
   },
   {
    "duration": 80,
    "start_time": "2022-04-07T08:09:21.100Z"
   },
   {
    "duration": 81,
    "start_time": "2022-04-07T08:09:21.182Z"
   },
   {
    "duration": 59,
    "start_time": "2022-04-07T08:09:21.264Z"
   },
   {
    "duration": 51,
    "start_time": "2022-04-07T08:09:21.325Z"
   },
   {
    "duration": 3,
    "start_time": "2022-04-07T08:09:21.378Z"
   },
   {
    "duration": 15,
    "start_time": "2022-04-07T08:09:21.383Z"
   },
   {
    "duration": 38,
    "start_time": "2022-04-07T08:09:21.400Z"
   },
   {
    "duration": 36,
    "start_time": "2022-04-07T08:09:21.440Z"
   },
   {
    "duration": 34,
    "start_time": "2022-04-07T08:09:21.478Z"
   },
   {
    "duration": 32,
    "start_time": "2022-04-07T08:09:21.514Z"
   },
   {
    "duration": 4,
    "start_time": "2022-04-07T08:09:21.563Z"
   },
   {
    "duration": 23,
    "start_time": "2022-04-07T08:09:21.568Z"
   },
   {
    "duration": 13,
    "start_time": "2022-04-07T08:09:21.593Z"
   },
   {
    "duration": 15,
    "start_time": "2022-04-07T08:09:21.608Z"
   },
   {
    "duration": 40,
    "start_time": "2022-04-07T08:09:21.624Z"
   },
   {
    "duration": 17,
    "start_time": "2022-04-07T08:09:21.666Z"
   },
   {
    "duration": 13,
    "start_time": "2022-04-07T08:09:21.687Z"
   },
   {
    "duration": 9,
    "start_time": "2022-04-07T08:09:21.702Z"
   },
   {
    "duration": 18,
    "start_time": "2022-04-07T08:09:21.712Z"
   },
   {
    "duration": 45,
    "start_time": "2022-04-07T08:09:21.732Z"
   },
   {
    "duration": 4,
    "start_time": "2022-04-07T08:09:21.779Z"
   },
   {
    "duration": 21,
    "start_time": "2022-04-07T08:09:21.785Z"
   },
   {
    "duration": 11,
    "start_time": "2022-04-07T08:09:21.808Z"
   },
   {
    "duration": 43,
    "start_time": "2022-04-07T08:09:21.821Z"
   },
   {
    "duration": 11,
    "start_time": "2022-04-07T08:09:21.866Z"
   },
   {
    "duration": 9,
    "start_time": "2022-04-07T08:09:21.879Z"
   },
   {
    "duration": 5,
    "start_time": "2022-04-07T08:09:21.889Z"
   },
   {
    "duration": 7,
    "start_time": "2022-04-07T08:09:21.896Z"
   },
   {
    "duration": 6,
    "start_time": "2022-04-07T08:09:21.905Z"
   },
   {
    "duration": 166,
    "start_time": "2022-04-07T08:09:36.048Z"
   },
   {
    "duration": 3,
    "start_time": "2022-04-07T08:56:16.580Z"
   },
   {
    "duration": 529,
    "start_time": "2022-04-07T14:43:45.767Z"
   },
   {
    "duration": 161,
    "start_time": "2022-04-07T14:43:47.088Z"
   },
   {
    "duration": 205,
    "start_time": "2022-04-07T14:44:08.051Z"
   },
   {
    "duration": 250,
    "start_time": "2022-04-07T14:44:13.597Z"
   },
   {
    "duration": 97,
    "start_time": "2022-04-07T14:44:35.095Z"
   },
   {
    "duration": 4,
    "start_time": "2022-04-07T15:35:39.108Z"
   },
   {
    "duration": 222,
    "start_time": "2022-04-07T15:35:44.124Z"
   },
   {
    "duration": 34,
    "start_time": "2022-04-07T15:35:46.368Z"
   },
   {
    "duration": 43,
    "start_time": "2022-04-07T15:35:47.300Z"
   },
   {
    "duration": 5,
    "start_time": "2022-04-07T15:35:50.096Z"
   },
   {
    "duration": 9,
    "start_time": "2022-04-07T15:35:51.008Z"
   },
   {
    "duration": 5,
    "start_time": "2022-04-07T15:35:51.823Z"
   },
   {
    "duration": 40,
    "start_time": "2022-04-07T15:35:52.452Z"
   },
   {
    "duration": 25,
    "start_time": "2022-04-07T15:35:54.237Z"
   },
   {
    "duration": 41,
    "start_time": "2022-04-07T15:35:56.449Z"
   },
   {
    "duration": 103,
    "start_time": "2022-04-07T15:35:59.875Z"
   },
   {
    "duration": 124,
    "start_time": "2022-04-07T15:36:02.797Z"
   },
   {
    "duration": 118,
    "start_time": "2022-04-07T15:36:08.171Z"
   },
   {
    "duration": 56,
    "start_time": "2022-04-07T15:36:09.764Z"
   },
   {
    "duration": 24,
    "start_time": "2022-04-07T15:36:26.740Z"
   },
   {
    "duration": 4,
    "start_time": "2022-04-07T15:36:40.912Z"
   },
   {
    "duration": 16,
    "start_time": "2022-04-07T15:36:42.200Z"
   },
   {
    "duration": 58,
    "start_time": "2022-04-07T15:36:43.464Z"
   },
   {
    "duration": 21,
    "start_time": "2022-04-07T15:37:05.200Z"
   },
   {
    "duration": 43,
    "start_time": "2022-04-07T15:38:20.502Z"
   },
   {
    "duration": 55,
    "start_time": "2022-04-07T15:38:25.346Z"
   },
   {
    "duration": 6,
    "start_time": "2022-04-07T15:39:28.364Z"
   },
   {
    "duration": 5,
    "start_time": "2022-04-07T15:39:37.307Z"
   },
   {
    "duration": 6,
    "start_time": "2022-04-07T15:39:47.026Z"
   },
   {
    "duration": 57,
    "start_time": "2022-04-07T15:39:51.464Z"
   },
   {
    "duration": 3,
    "start_time": "2022-04-07T15:54:37.683Z"
   },
   {
    "duration": 199,
    "start_time": "2022-04-07T15:55:00.423Z"
   },
   {
    "duration": 77,
    "start_time": "2022-04-07T15:55:17.387Z"
   },
   {
    "duration": 4,
    "start_time": "2022-04-07T15:55:25.218Z"
   },
   {
    "duration": 77,
    "start_time": "2022-04-07T15:55:30.066Z"
   },
   {
    "duration": 904,
    "start_time": "2022-04-07T15:55:52.826Z"
   },
   {
    "duration": 231,
    "start_time": "2022-04-07T15:57:06.466Z"
   },
   {
    "duration": 810,
    "start_time": "2022-04-07T16:06:12.610Z"
   },
   {
    "duration": 833,
    "start_time": "2022-04-07T16:06:49.359Z"
   },
   {
    "duration": 842,
    "start_time": "2022-04-07T16:07:23.015Z"
   },
   {
    "duration": 835,
    "start_time": "2022-04-07T16:07:30.943Z"
   },
   {
    "duration": 4,
    "start_time": "2022-04-07T16:19:57.911Z"
   },
   {
    "duration": 279,
    "start_time": "2022-04-07T16:19:59.306Z"
   },
   {
    "duration": 279,
    "start_time": "2022-04-07T16:20:00.576Z"
   },
   {
    "duration": 1033,
    "start_time": "2022-04-07T16:22:41.980Z"
   },
   {
    "duration": 843,
    "start_time": "2022-04-07T16:31:34.310Z"
   },
   {
    "duration": 1700,
    "start_time": "2022-04-07T16:31:37.938Z"
   },
   {
    "duration": 1735,
    "start_time": "2022-04-07T16:31:40.706Z"
   },
   {
    "duration": 198,
    "start_time": "2022-04-07T16:42:40.124Z"
   },
   {
    "duration": 17,
    "start_time": "2022-04-07T16:42:40.967Z"
   },
   {
    "duration": 40,
    "start_time": "2022-04-07T16:42:41.836Z"
   },
   {
    "duration": 6,
    "start_time": "2022-04-07T16:42:44.871Z"
   },
   {
    "duration": 1826,
    "start_time": "2022-04-07T16:56:09.441Z"
   },
   {
    "duration": 203,
    "start_time": "2022-04-07T16:56:15.750Z"
   },
   {
    "duration": 17,
    "start_time": "2022-04-07T16:56:16.297Z"
   },
   {
    "duration": 41,
    "start_time": "2022-04-07T16:56:18.744Z"
   },
   {
    "duration": 6,
    "start_time": "2022-04-07T16:56:25.593Z"
   },
   {
    "duration": 14,
    "start_time": "2022-04-07T16:56:27.424Z"
   },
   {
    "duration": 5,
    "start_time": "2022-04-07T16:56:30.431Z"
   },
   {
    "duration": 36,
    "start_time": "2022-04-07T16:56:31.291Z"
   },
   {
    "duration": 24,
    "start_time": "2022-04-07T16:56:32.729Z"
   },
   {
    "duration": 35,
    "start_time": "2022-04-07T16:56:34.110Z"
   },
   {
    "duration": 96,
    "start_time": "2022-04-07T16:56:35.180Z"
   },
   {
    "duration": 108,
    "start_time": "2022-04-07T16:56:36.084Z"
   },
   {
    "duration": 88,
    "start_time": "2022-04-07T16:56:37.046Z"
   },
   {
    "duration": 86,
    "start_time": "2022-04-07T16:56:38.415Z"
   },
   {
    "duration": 5,
    "start_time": "2022-04-07T16:56:40.078Z"
   },
   {
    "duration": 16,
    "start_time": "2022-04-07T16:56:41.674Z"
   },
   {
    "duration": 55,
    "start_time": "2022-04-07T16:56:42.524Z"
   },
   {
    "duration": 21,
    "start_time": "2022-04-07T16:56:42.970Z"
   },
   {
    "duration": 32,
    "start_time": "2022-04-07T16:56:55.754Z"
   },
   {
    "duration": 517,
    "start_time": "2022-04-07T16:57:33.367Z"
   },
   {
    "duration": 3,
    "start_time": "2022-04-07T16:57:34.351Z"
   },
   {
    "duration": 191,
    "start_time": "2022-04-07T16:57:36.746Z"
   },
   {
    "duration": 1718,
    "start_time": "2022-04-07T16:57:38.395Z"
   },
   {
    "duration": 287,
    "start_time": "2022-04-07T16:57:40.118Z"
   },
   {
    "duration": 41,
    "start_time": "2022-04-07T16:57:40.408Z"
   },
   {
    "duration": 63,
    "start_time": "2022-04-07T16:57:41.641Z"
   },
   {
    "duration": 6,
    "start_time": "2022-04-07T16:58:15.321Z"
   },
   {
    "duration": 16,
    "start_time": "2022-04-07T16:58:18.954Z"
   },
   {
    "duration": 5,
    "start_time": "2022-04-07T16:58:20.835Z"
   },
   {
    "duration": 35,
    "start_time": "2022-04-07T16:58:21.586Z"
   },
   {
    "duration": 24,
    "start_time": "2022-04-07T16:58:29.979Z"
   },
   {
    "duration": 33,
    "start_time": "2022-04-07T16:58:33.275Z"
   },
   {
    "duration": 97,
    "start_time": "2022-04-07T16:58:40.412Z"
   },
   {
    "duration": 164,
    "start_time": "2022-04-07T16:58:43.601Z"
   },
   {
    "duration": 86,
    "start_time": "2022-04-07T16:58:49.782Z"
   },
   {
    "duration": 53,
    "start_time": "2022-04-07T16:58:51.507Z"
   },
   {
    "duration": 24,
    "start_time": "2022-04-07T16:59:07.168Z"
   },
   {
    "duration": 90,
    "start_time": "2022-04-07T16:59:21.095Z"
   },
   {
    "duration": 56,
    "start_time": "2022-04-07T16:59:23.268Z"
   },
   {
    "duration": 5,
    "start_time": "2022-04-07T16:59:29.276Z"
   },
   {
    "duration": 17,
    "start_time": "2022-04-07T16:59:30.839Z"
   },
   {
    "duration": 55,
    "start_time": "2022-04-07T16:59:32.504Z"
   },
   {
    "duration": 22,
    "start_time": "2022-04-07T16:59:37.338Z"
   },
   {
    "duration": 114,
    "start_time": "2022-04-07T17:00:42.942Z"
   },
   {
    "duration": 108,
    "start_time": "2022-04-07T17:00:47.171Z"
   },
   {
    "duration": 46,
    "start_time": "2022-04-07T17:04:20.194Z"
   },
   {
    "duration": 154,
    "start_time": "2022-04-07T17:04:22.630Z"
   },
   {
    "duration": 17,
    "start_time": "2022-04-07T17:04:40.599Z"
   },
   {
    "duration": 18,
    "start_time": "2022-04-07T17:04:59.378Z"
   },
   {
    "duration": 19,
    "start_time": "2022-04-07T17:05:04.338Z"
   },
   {
    "duration": 110,
    "start_time": "2022-04-07T17:07:40.362Z"
   },
   {
    "duration": 157,
    "start_time": "2022-04-07T17:07:49.109Z"
   },
   {
    "duration": 24,
    "start_time": "2022-04-07T17:07:56.601Z"
   },
   {
    "duration": 7,
    "start_time": "2022-04-07T17:11:32.154Z"
   },
   {
    "duration": 22,
    "start_time": "2022-04-07T17:11:34.918Z"
   },
   {
    "duration": 20,
    "start_time": "2022-04-07T17:11:35.347Z"
   },
   {
    "duration": 20,
    "start_time": "2022-04-07T17:11:35.561Z"
   },
   {
    "duration": 20,
    "start_time": "2022-04-07T17:11:35.734Z"
   },
   {
    "duration": 25,
    "start_time": "2022-04-07T17:11:35.911Z"
   },
   {
    "duration": 21,
    "start_time": "2022-04-07T17:11:36.274Z"
   },
   {
    "duration": 12,
    "start_time": "2022-04-07T17:11:40.093Z"
   },
   {
    "duration": 29,
    "start_time": "2022-04-07T17:11:44.373Z"
   },
   {
    "duration": 26,
    "start_time": "2022-04-07T17:11:45.142Z"
   },
   {
    "duration": 6,
    "start_time": "2022-04-07T17:11:55.507Z"
   },
   {
    "duration": 6,
    "start_time": "2022-04-07T17:12:22.270Z"
   },
   {
    "duration": 25,
    "start_time": "2022-04-07T17:12:24.695Z"
   },
   {
    "duration": 15,
    "start_time": "2022-04-07T17:12:33.659Z"
   },
   {
    "duration": 22,
    "start_time": "2022-04-07T17:12:34.252Z"
   },
   {
    "duration": 15,
    "start_time": "2022-04-07T17:12:39.227Z"
   },
   {
    "duration": 13,
    "start_time": "2022-04-07T17:12:44.398Z"
   },
   {
    "duration": 6,
    "start_time": "2022-04-07T17:12:45.463Z"
   },
   {
    "duration": 8,
    "start_time": "2022-04-07T17:12:46.231Z"
   },
   {
    "duration": 7,
    "start_time": "2022-04-07T17:12:46.851Z"
   },
   {
    "duration": 24,
    "start_time": "2022-04-07T17:13:46.300Z"
   },
   {
    "duration": 4,
    "start_time": "2022-04-07T17:15:08.107Z"
   },
   {
    "duration": 15,
    "start_time": "2022-04-07T17:15:09.319Z"
   },
   {
    "duration": 17,
    "start_time": "2022-04-07T17:15:09.939Z"
   },
   {
    "duration": 4,
    "start_time": "2022-04-07T17:15:31.795Z"
   },
   {
    "duration": 19,
    "start_time": "2022-04-07T17:15:32.687Z"
   },
   {
    "duration": 17,
    "start_time": "2022-04-07T17:15:33.363Z"
   },
   {
    "duration": 18,
    "start_time": "2022-04-07T17:15:44.134Z"
   },
   {
    "duration": 520,
    "start_time": "2022-04-07T17:15:52.960Z"
   },
   {
    "duration": 214,
    "start_time": "2022-04-07T17:15:53.483Z"
   },
   {
    "duration": 1846,
    "start_time": "2022-04-07T17:15:53.699Z"
   },
   {
    "duration": 213,
    "start_time": "2022-04-07T17:15:55.547Z"
   },
   {
    "duration": 32,
    "start_time": "2022-04-07T17:15:55.763Z"
   },
   {
    "duration": 42,
    "start_time": "2022-04-07T17:15:55.797Z"
   },
   {
    "duration": 6,
    "start_time": "2022-04-07T17:15:55.841Z"
   },
   {
    "duration": 12,
    "start_time": "2022-04-07T17:15:55.874Z"
   },
   {
    "duration": 11,
    "start_time": "2022-04-07T17:15:55.888Z"
   },
   {
    "duration": 37,
    "start_time": "2022-04-07T17:15:55.901Z"
   },
   {
    "duration": 55,
    "start_time": "2022-04-07T17:15:55.941Z"
   },
   {
    "duration": 33,
    "start_time": "2022-04-07T17:15:55.998Z"
   },
   {
    "duration": 125,
    "start_time": "2022-04-07T17:15:56.034Z"
   },
   {
    "duration": 123,
    "start_time": "2022-04-07T17:15:56.178Z"
   },
   {
    "duration": 106,
    "start_time": "2022-04-07T17:15:56.303Z"
   },
   {
    "duration": 63,
    "start_time": "2022-04-07T17:15:56.412Z"
   },
   {
    "duration": 5,
    "start_time": "2022-04-07T17:15:56.477Z"
   },
   {
    "duration": 19,
    "start_time": "2022-04-07T17:15:56.484Z"
   },
   {
    "duration": 82,
    "start_time": "2022-04-07T17:15:56.505Z"
   },
   {
    "duration": 21,
    "start_time": "2022-04-07T17:15:56.589Z"
   },
   {
    "duration": 22,
    "start_time": "2022-04-07T17:15:56.612Z"
   },
   {
    "duration": 41,
    "start_time": "2022-04-07T17:15:56.636Z"
   },
   {
    "duration": 5,
    "start_time": "2022-04-07T17:15:56.679Z"
   },
   {
    "duration": 26,
    "start_time": "2022-04-07T17:15:56.687Z"
   },
   {
    "duration": 20,
    "start_time": "2022-04-07T17:15:56.715Z"
   },
   {
    "duration": 49,
    "start_time": "2022-04-07T17:15:56.737Z"
   },
   {
    "duration": 20,
    "start_time": "2022-04-07T17:15:56.788Z"
   },
   {
    "duration": 23,
    "start_time": "2022-04-07T17:15:56.810Z"
   },
   {
    "duration": 51,
    "start_time": "2022-04-07T17:15:56.835Z"
   },
   {
    "duration": 13,
    "start_time": "2022-04-07T17:15:56.888Z"
   },
   {
    "duration": 28,
    "start_time": "2022-04-07T17:15:56.903Z"
   },
   {
    "duration": 57,
    "start_time": "2022-04-07T17:15:56.933Z"
   },
   {
    "duration": 6,
    "start_time": "2022-04-07T17:15:56.992Z"
   },
   {
    "duration": 29,
    "start_time": "2022-04-07T17:15:57.000Z"
   },
   {
    "duration": 44,
    "start_time": "2022-04-07T17:15:57.031Z"
   },
   {
    "duration": 21,
    "start_time": "2022-04-07T17:15:57.078Z"
   },
   {
    "duration": 15,
    "start_time": "2022-04-07T17:15:57.102Z"
   },
   {
    "duration": 18,
    "start_time": "2022-04-07T17:15:57.119Z"
   },
   {
    "duration": 34,
    "start_time": "2022-04-07T17:15:57.139Z"
   },
   {
    "duration": 9,
    "start_time": "2022-04-07T17:15:57.175Z"
   },
   {
    "duration": 6,
    "start_time": "2022-04-07T17:15:57.190Z"
   },
   {
    "duration": 4,
    "start_time": "2022-04-07T17:16:49.912Z"
   },
   {
    "duration": 16,
    "start_time": "2022-04-07T17:16:51.211Z"
   },
   {
    "duration": 17,
    "start_time": "2022-04-07T17:16:52.355Z"
   },
   {
    "duration": 4,
    "start_time": "2022-04-07T17:17:03.524Z"
   },
   {
    "duration": 27,
    "start_time": "2022-04-07T17:17:04.334Z"
   },
   {
    "duration": 17,
    "start_time": "2022-04-07T17:17:04.978Z"
   },
   {
    "duration": 11,
    "start_time": "2022-04-07T17:17:05.545Z"
   },
   {
    "duration": 461,
    "start_time": "2022-04-07T17:18:20.316Z"
   },
   {
    "duration": 198,
    "start_time": "2022-04-07T17:18:20.780Z"
   },
   {
    "duration": 1880,
    "start_time": "2022-04-07T17:18:20.980Z"
   },
   {
    "duration": 204,
    "start_time": "2022-04-07T17:18:22.864Z"
   },
   {
    "duration": 28,
    "start_time": "2022-04-07T17:18:23.070Z"
   },
   {
    "duration": 83,
    "start_time": "2022-04-07T17:18:23.101Z"
   },
   {
    "duration": 7,
    "start_time": "2022-04-07T17:18:23.186Z"
   },
   {
    "duration": 15,
    "start_time": "2022-04-07T17:18:23.195Z"
   },
   {
    "duration": 9,
    "start_time": "2022-04-07T17:18:23.213Z"
   },
   {
    "duration": 88,
    "start_time": "2022-04-07T17:18:23.226Z"
   },
   {
    "duration": 35,
    "start_time": "2022-04-07T17:18:23.316Z"
   },
   {
    "duration": 70,
    "start_time": "2022-04-07T17:18:23.353Z"
   },
   {
    "duration": 119,
    "start_time": "2022-04-07T17:18:23.425Z"
   },
   {
    "duration": 129,
    "start_time": "2022-04-07T17:18:23.546Z"
   },
   {
    "duration": 98,
    "start_time": "2022-04-07T17:18:23.677Z"
   },
   {
    "duration": 54,
    "start_time": "2022-04-07T17:18:23.777Z"
   },
   {
    "duration": 5,
    "start_time": "2022-04-07T17:18:23.834Z"
   },
   {
    "duration": 42,
    "start_time": "2022-04-07T17:18:23.842Z"
   },
   {
    "duration": 54,
    "start_time": "2022-04-07T17:18:23.887Z"
   },
   {
    "duration": 39,
    "start_time": "2022-04-07T17:18:23.943Z"
   },
   {
    "duration": 17,
    "start_time": "2022-04-07T17:18:23.985Z"
   },
   {
    "duration": 16,
    "start_time": "2022-04-07T17:18:24.005Z"
   },
   {
    "duration": 11,
    "start_time": "2022-04-07T17:18:24.023Z"
   },
   {
    "duration": 53,
    "start_time": "2022-04-07T17:18:24.036Z"
   },
   {
    "duration": 19,
    "start_time": "2022-04-07T17:18:24.091Z"
   },
   {
    "duration": 19,
    "start_time": "2022-04-07T17:18:24.112Z"
   },
   {
    "duration": 52,
    "start_time": "2022-04-07T17:18:24.133Z"
   },
   {
    "duration": 20,
    "start_time": "2022-04-07T17:18:24.190Z"
   },
   {
    "duration": 18,
    "start_time": "2022-04-07T17:18:24.213Z"
   },
   {
    "duration": 42,
    "start_time": "2022-04-07T17:18:24.233Z"
   },
   {
    "duration": 26,
    "start_time": "2022-04-07T17:18:24.278Z"
   },
   {
    "duration": 23,
    "start_time": "2022-04-07T17:18:24.306Z"
   },
   {
    "duration": 5,
    "start_time": "2022-04-07T17:18:24.332Z"
   },
   {
    "duration": 50,
    "start_time": "2022-04-07T17:18:24.339Z"
   },
   {
    "duration": 16,
    "start_time": "2022-04-07T17:18:24.392Z"
   },
   {
    "duration": 23,
    "start_time": "2022-04-07T17:18:24.410Z"
   },
   {
    "duration": 50,
    "start_time": "2022-04-07T17:18:24.435Z"
   },
   {
    "duration": 13,
    "start_time": "2022-04-07T17:18:24.487Z"
   },
   {
    "duration": 7,
    "start_time": "2022-04-07T17:18:24.502Z"
   },
   {
    "duration": 10,
    "start_time": "2022-04-07T17:18:24.512Z"
   },
   {
    "duration": 51,
    "start_time": "2022-04-07T17:18:24.524Z"
   },
   {
    "duration": 518,
    "start_time": "2022-04-07T17:18:43.036Z"
   },
   {
    "duration": 203,
    "start_time": "2022-04-07T17:18:43.849Z"
   },
   {
    "duration": 1736,
    "start_time": "2022-04-07T17:18:44.616Z"
   },
   {
    "duration": 214,
    "start_time": "2022-04-07T17:18:46.355Z"
   },
   {
    "duration": 28,
    "start_time": "2022-04-07T17:18:46.574Z"
   },
   {
    "duration": 42,
    "start_time": "2022-04-07T17:18:46.605Z"
   },
   {
    "duration": 6,
    "start_time": "2022-04-07T17:18:49.202Z"
   },
   {
    "duration": 16,
    "start_time": "2022-04-07T17:18:49.770Z"
   },
   {
    "duration": 5,
    "start_time": "2022-04-07T17:18:50.282Z"
   },
   {
    "duration": 35,
    "start_time": "2022-04-07T17:18:50.970Z"
   },
   {
    "duration": 25,
    "start_time": "2022-04-07T17:18:52.640Z"
   },
   {
    "duration": 38,
    "start_time": "2022-04-07T17:18:54.939Z"
   },
   {
    "duration": 107,
    "start_time": "2022-04-07T17:18:57.271Z"
   },
   {
    "duration": 110,
    "start_time": "2022-04-07T17:18:58.517Z"
   },
   {
    "duration": 93,
    "start_time": "2022-04-07T17:19:00.299Z"
   },
   {
    "duration": 56,
    "start_time": "2022-04-07T17:19:02.292Z"
   },
   {
    "duration": 4,
    "start_time": "2022-04-07T17:19:22.918Z"
   },
   {
    "duration": 24,
    "start_time": "2022-04-07T17:19:24.073Z"
   },
   {
    "duration": 27,
    "start_time": "2022-04-07T17:19:25.837Z"
   },
   {
    "duration": 15,
    "start_time": "2022-04-07T17:19:26.906Z"
   },
   {
    "duration": 19,
    "start_time": "2022-04-07T17:20:03.563Z"
   },
   {
    "duration": 16,
    "start_time": "2022-04-07T17:20:11.498Z"
   },
   {
    "duration": 4,
    "start_time": "2022-04-07T17:20:16.304Z"
   },
   {
    "duration": 4,
    "start_time": "2022-04-07T17:21:28.894Z"
   },
   {
    "duration": 16,
    "start_time": "2022-04-07T17:21:29.948Z"
   },
   {
    "duration": 16,
    "start_time": "2022-04-07T17:21:30.925Z"
   },
   {
    "duration": 11,
    "start_time": "2022-04-07T17:22:10.602Z"
   },
   {
    "duration": 615,
    "start_time": "2022-04-07T17:22:16.410Z"
   },
   {
    "duration": 275,
    "start_time": "2022-04-07T17:22:17.029Z"
   },
   {
    "duration": 1737,
    "start_time": "2022-04-07T17:22:17.306Z"
   },
   {
    "duration": 208,
    "start_time": "2022-04-07T17:22:19.046Z"
   },
   {
    "duration": 36,
    "start_time": "2022-04-07T17:22:19.257Z"
   },
   {
    "duration": 40,
    "start_time": "2022-04-07T17:22:19.295Z"
   },
   {
    "duration": 37,
    "start_time": "2022-04-07T17:22:19.337Z"
   },
   {
    "duration": 14,
    "start_time": "2022-04-07T17:22:19.376Z"
   },
   {
    "duration": 6,
    "start_time": "2022-04-07T17:22:19.754Z"
   },
   {
    "duration": 37,
    "start_time": "2022-04-07T17:22:20.093Z"
   },
   {
    "duration": 25,
    "start_time": "2022-04-07T17:22:20.796Z"
   },
   {
    "duration": 32,
    "start_time": "2022-04-07T17:22:21.328Z"
   },
   {
    "duration": 94,
    "start_time": "2022-04-07T17:22:21.899Z"
   },
   {
    "duration": 111,
    "start_time": "2022-04-07T17:22:22.449Z"
   },
   {
    "duration": 88,
    "start_time": "2022-04-07T17:22:23.357Z"
   },
   {
    "duration": 55,
    "start_time": "2022-04-07T17:22:24.207Z"
   },
   {
    "duration": 4,
    "start_time": "2022-04-07T17:22:25.958Z"
   },
   {
    "duration": 17,
    "start_time": "2022-04-07T17:22:29.150Z"
   },
   {
    "duration": 18,
    "start_time": "2022-04-07T17:22:30.817Z"
   },
   {
    "duration": 531,
    "start_time": "2022-04-07T17:25:33.157Z"
   },
   {
    "duration": 191,
    "start_time": "2022-04-07T17:25:33.691Z"
   },
   {
    "duration": 1839,
    "start_time": "2022-04-07T17:25:33.885Z"
   },
   {
    "duration": 201,
    "start_time": "2022-04-07T17:25:35.727Z"
   },
   {
    "duration": 42,
    "start_time": "2022-04-07T17:25:35.932Z"
   },
   {
    "duration": 43,
    "start_time": "2022-04-07T17:25:35.976Z"
   },
   {
    "duration": 6,
    "start_time": "2022-04-07T17:25:36.021Z"
   },
   {
    "duration": 44,
    "start_time": "2022-04-07T17:25:36.029Z"
   },
   {
    "duration": 11,
    "start_time": "2022-04-07T17:25:36.076Z"
   },
   {
    "duration": 37,
    "start_time": "2022-04-07T17:25:36.090Z"
   },
   {
    "duration": 40,
    "start_time": "2022-04-07T17:25:36.129Z"
   },
   {
    "duration": 33,
    "start_time": "2022-04-07T17:25:36.174Z"
   },
   {
    "duration": 120,
    "start_time": "2022-04-07T17:25:36.210Z"
   },
   {
    "duration": 124,
    "start_time": "2022-04-07T17:25:36.338Z"
   },
   {
    "duration": 89,
    "start_time": "2022-04-07T17:25:36.465Z"
   },
   {
    "duration": 67,
    "start_time": "2022-04-07T17:25:36.556Z"
   },
   {
    "duration": 5,
    "start_time": "2022-04-07T17:25:36.626Z"
   },
   {
    "duration": 41,
    "start_time": "2022-04-07T17:25:36.634Z"
   },
   {
    "duration": 55,
    "start_time": "2022-04-07T17:25:36.678Z"
   },
   {
    "duration": 43,
    "start_time": "2022-04-07T17:25:36.735Z"
   },
   {
    "duration": 20,
    "start_time": "2022-04-07T17:25:36.782Z"
   },
   {
    "duration": 18,
    "start_time": "2022-04-07T17:25:36.805Z"
   },
   {
    "duration": 6,
    "start_time": "2022-04-07T17:25:36.826Z"
   },
   {
    "duration": 21,
    "start_time": "2022-04-07T17:25:36.875Z"
   },
   {
    "duration": 21,
    "start_time": "2022-04-07T17:25:36.898Z"
   },
   {
    "duration": 21,
    "start_time": "2022-04-07T17:25:36.921Z"
   },
   {
    "duration": 47,
    "start_time": "2022-04-07T17:25:36.944Z"
   },
   {
    "duration": 20,
    "start_time": "2022-04-07T17:25:36.993Z"
   },
   {
    "duration": 20,
    "start_time": "2022-04-07T17:25:37.015Z"
   },
   {
    "duration": 46,
    "start_time": "2022-04-07T17:25:37.037Z"
   },
   {
    "duration": 28,
    "start_time": "2022-04-07T17:25:37.085Z"
   },
   {
    "duration": 23,
    "start_time": "2022-04-07T17:25:37.116Z"
   },
   {
    "duration": 6,
    "start_time": "2022-04-07T17:25:37.174Z"
   },
   {
    "duration": 28,
    "start_time": "2022-04-07T17:25:37.182Z"
   },
   {
    "duration": 15,
    "start_time": "2022-04-07T17:25:37.212Z"
   },
   {
    "duration": 49,
    "start_time": "2022-04-07T17:25:37.230Z"
   },
   {
    "duration": 15,
    "start_time": "2022-04-07T17:25:37.281Z"
   },
   {
    "duration": 11,
    "start_time": "2022-04-07T17:25:37.298Z"
   },
   {
    "duration": 7,
    "start_time": "2022-04-07T17:25:37.312Z"
   },
   {
    "duration": 9,
    "start_time": "2022-04-07T17:25:37.321Z"
   },
   {
    "duration": 5,
    "start_time": "2022-04-07T17:25:37.376Z"
   },
   {
    "duration": 4,
    "start_time": "2022-04-07T17:26:41.905Z"
   },
   {
    "duration": 192,
    "start_time": "2022-04-07T17:26:42.733Z"
   },
   {
    "duration": 1691,
    "start_time": "2022-04-07T17:26:43.965Z"
   },
   {
    "duration": 514,
    "start_time": "2022-04-07T17:27:42.242Z"
   },
   {
    "duration": 182,
    "start_time": "2022-04-07T17:27:43.118Z"
   },
   {
    "duration": 119,
    "start_time": "2022-04-07T17:28:11.282Z"
   },
   {
    "duration": 1689,
    "start_time": "2022-04-07T17:29:27.682Z"
   },
   {
    "duration": 206,
    "start_time": "2022-04-07T17:29:30.250Z"
   },
   {
    "duration": 30,
    "start_time": "2022-04-07T17:29:32.802Z"
   },
   {
    "duration": 45,
    "start_time": "2022-04-07T17:29:34.101Z"
   },
   {
    "duration": 5,
    "start_time": "2022-04-07T17:29:38.790Z"
   },
   {
    "duration": 12,
    "start_time": "2022-04-07T17:29:40.274Z"
   },
   {
    "duration": 6,
    "start_time": "2022-04-07T17:29:41.621Z"
   },
   {
    "duration": 36,
    "start_time": "2022-04-07T17:29:42.495Z"
   },
   {
    "duration": 24,
    "start_time": "2022-04-07T17:29:44.105Z"
   },
   {
    "duration": 33,
    "start_time": "2022-04-07T17:29:45.410Z"
   },
   {
    "duration": 99,
    "start_time": "2022-04-07T17:29:46.598Z"
   },
   {
    "duration": 109,
    "start_time": "2022-04-07T17:29:47.908Z"
   },
   {
    "duration": 93,
    "start_time": "2022-04-07T17:29:49.262Z"
   },
   {
    "duration": 56,
    "start_time": "2022-04-07T17:29:50.813Z"
   },
   {
    "duration": 5,
    "start_time": "2022-04-07T17:29:52.626Z"
   },
   {
    "duration": 17,
    "start_time": "2022-04-07T17:29:54.601Z"
   },
   {
    "duration": 53,
    "start_time": "2022-04-07T17:29:55.826Z"
   },
   {
    "duration": 22,
    "start_time": "2022-04-07T17:29:56.417Z"
   },
   {
    "duration": 21,
    "start_time": "2022-04-07T17:30:03.345Z"
   },
   {
    "duration": 18,
    "start_time": "2022-04-07T17:30:11.229Z"
   },
   {
    "duration": 18,
    "start_time": "2022-04-07T17:30:12.366Z"
   },
   {
    "duration": 5,
    "start_time": "2022-04-07T17:30:14.925Z"
   },
   {
    "duration": 21,
    "start_time": "2022-04-07T17:30:15.638Z"
   },
   {
    "duration": 21,
    "start_time": "2022-04-07T17:30:15.857Z"
   },
   {
    "duration": 20,
    "start_time": "2022-04-07T17:30:16.089Z"
   },
   {
    "duration": 19,
    "start_time": "2022-04-07T17:30:16.341Z"
   },
   {
    "duration": 22,
    "start_time": "2022-04-07T17:30:16.577Z"
   },
   {
    "duration": 21,
    "start_time": "2022-04-07T17:30:16.933Z"
   },
   {
    "duration": 13,
    "start_time": "2022-04-07T17:30:17.969Z"
   },
   {
    "duration": 27,
    "start_time": "2022-04-07T17:30:19.798Z"
   },
   {
    "duration": 28,
    "start_time": "2022-04-07T17:30:20.050Z"
   },
   {
    "duration": 5,
    "start_time": "2022-04-07T17:30:21.177Z"
   },
   {
    "duration": 25,
    "start_time": "2022-04-07T17:30:22.586Z"
   },
   {
    "duration": 16,
    "start_time": "2022-04-07T17:30:22.966Z"
   },
   {
    "duration": 22,
    "start_time": "2022-04-07T17:30:23.350Z"
   },
   {
    "duration": 17,
    "start_time": "2022-04-07T17:30:23.734Z"
   },
   {
    "duration": 13,
    "start_time": "2022-04-07T17:30:25.918Z"
   },
   {
    "duration": 9,
    "start_time": "2022-04-07T17:30:26.658Z"
   },
   {
    "duration": 10,
    "start_time": "2022-04-07T17:30:27.467Z"
   },
   {
    "duration": 7,
    "start_time": "2022-04-07T17:30:28.157Z"
   },
   {
    "duration": 478,
    "start_time": "2022-04-08T12:18:42.345Z"
   },
   {
    "duration": 179,
    "start_time": "2022-04-08T12:18:44.063Z"
   },
   {
    "duration": 13,
    "start_time": "2022-04-08T12:18:58.152Z"
   },
   {
    "duration": 10,
    "start_time": "2022-04-08T12:19:00.992Z"
   },
   {
    "duration": 19,
    "start_time": "2022-04-08T12:19:06.211Z"
   },
   {
    "duration": 77,
    "start_time": "2022-04-08T12:19:10.979Z"
   },
   {
    "duration": 3,
    "start_time": "2022-04-08T12:19:43.782Z"
   },
   {
    "duration": 67,
    "start_time": "2022-04-08T12:20:04.662Z"
   },
   {
    "duration": 12,
    "start_time": "2022-04-08T12:20:12.742Z"
   },
   {
    "duration": 39,
    "start_time": "2022-04-08T12:20:26.532Z"
   },
   {
    "duration": 26,
    "start_time": "2022-04-08T12:25:59.269Z"
   },
   {
    "duration": 22,
    "start_time": "2022-04-08T12:26:17.652Z"
   },
   {
    "duration": 21,
    "start_time": "2022-04-08T12:26:29.390Z"
   },
   {
    "duration": 11,
    "start_time": "2022-04-08T12:28:13.552Z"
   },
   {
    "duration": 13,
    "start_time": "2022-04-08T12:28:27.472Z"
   },
   {
    "duration": 9,
    "start_time": "2022-04-08T12:28:40.363Z"
   },
   {
    "duration": 8,
    "start_time": "2022-04-08T12:31:41.400Z"
   },
   {
    "duration": 174,
    "start_time": "2022-04-08T12:31:55.539Z"
   },
   {
    "duration": 19,
    "start_time": "2022-04-08T12:32:03.679Z"
   },
   {
    "duration": 3,
    "start_time": "2022-04-08T12:32:14.472Z"
   },
   {
    "duration": 12,
    "start_time": "2022-04-08T12:32:16.838Z"
   },
   {
    "duration": 16,
    "start_time": "2022-04-08T12:32:19.992Z"
   }
  ],
  "colab": {
   "collapsed_sections": [
    "E0vqbgi9ay0H",
    "VUC88oWjTJw2"
   ],
   "name": "yandex_music_project.ipynb",
   "provenance": []
  },
  "kernelspec": {
   "display_name": "Python 3 (ipykernel)",
   "language": "python",
   "name": "python3"
  },
  "language_info": {
   "codemirror_mode": {
    "name": "ipython",
    "version": 3
   },
   "file_extension": ".py",
   "mimetype": "text/x-python",
   "name": "python",
   "nbconvert_exporter": "python",
   "pygments_lexer": "ipython3",
   "version": "3.9.5"
  },
  "toc": {
   "base_numbering": 1,
   "nav_menu": {},
   "number_sections": true,
   "sideBar": true,
   "skip_h1_title": true,
   "title_cell": "Table of Contents",
   "title_sidebar": "Contents",
   "toc_cell": false,
   "toc_position": {
    "height": "538.679px",
    "left": "46.9346px",
    "top": "156.994px",
    "width": "298.977px"
   },
   "toc_section_display": true,
   "toc_window_display": true
  }
 },
 "nbformat": 4,
 "nbformat_minor": 1
}
